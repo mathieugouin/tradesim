{
 "cells": [
  {
   "cell_type": "code",
   "execution_count": 1,
   "id": "8ea08ed9-7f38-4902-a22c-bb062329dcbf",
   "metadata": {},
   "outputs": [],
   "source": [
    "# Standard\n",
    "import numpy as np\n",
    "import pandas as pd\n",
    "import matplotlib.pyplot as plt\n",
    "import seaborn as sns\n",
    "\n",
    "# Custom\n",
    "#import finance_utils as fu\n",
    "#import ystockquote as ysq\n",
    "#import technical_indicators as ti\n",
    "import stock_db_mgr as sdm"
   ]
  },
  {
   "cell_type": "code",
   "execution_count": 14,
   "id": "065a60bf-ad91-478c-85a4-2c7afb010d3c",
   "metadata": {},
   "outputs": [],
   "source": [
    "# Adjust figure size to be bigger:\n",
    "plt.rcParams['figure.figsize'] = [15, 6]\n",
    "\n",
    "# Set seaborn plot theme:\n",
    "sns.set_theme()"
   ]
  },
  {
   "cell_type": "code",
   "execution_count": 28,
   "id": "480b0d1e-c619-44a4-ae33-9bf8937f5848",
   "metadata": {},
   "outputs": [],
   "source": [
    "db = sdm.StockDBMgr('stock_db/test', '2010-01-01')"
   ]
  },
  {
   "cell_type": "code",
   "execution_count": 29,
   "id": "99d7f465-fe71-4a13-84b2-093a419f740e",
   "metadata": {},
   "outputs": [],
   "source": [
    "df = db.get_all_symbol_single_data_item('Close')"
   ]
  },
  {
   "cell_type": "code",
   "execution_count": 30,
   "id": "8be0641f-f07e-42c8-951e-c6610b60d67f",
   "metadata": {},
   "outputs": [
    {
     "data": {
      "text/html": [
       "<div>\n",
       "<style scoped>\n",
       "    .dataframe tbody tr th:only-of-type {\n",
       "        vertical-align: middle;\n",
       "    }\n",
       "\n",
       "    .dataframe tbody tr th {\n",
       "        vertical-align: top;\n",
       "    }\n",
       "\n",
       "    .dataframe thead th {\n",
       "        text-align: right;\n",
       "    }\n",
       "</style>\n",
       "<table border=\"1\" class=\"dataframe\">\n",
       "  <thead>\n",
       "    <tr style=\"text-align: right;\">\n",
       "      <th>Close</th>\n",
       "      <th>AAPL</th>\n",
       "      <th>GLD</th>\n",
       "      <th>GOOG</th>\n",
       "      <th>IBM</th>\n",
       "      <th>SPY</th>\n",
       "    </tr>\n",
       "    <tr>\n",
       "      <th>Date</th>\n",
       "      <th></th>\n",
       "      <th></th>\n",
       "      <th></th>\n",
       "      <th></th>\n",
       "      <th></th>\n",
       "    </tr>\n",
       "  </thead>\n",
       "  <tbody>\n",
       "    <tr>\n",
       "      <th>2010-01-04</th>\n",
       "      <td>6.526021</td>\n",
       "      <td>109.800003</td>\n",
       "      <td>15.610239</td>\n",
       "      <td>82.284225</td>\n",
       "      <td>88.860374</td>\n",
       "    </tr>\n",
       "    <tr>\n",
       "      <th>2010-01-05</th>\n",
       "      <td>6.537304</td>\n",
       "      <td>109.699997</td>\n",
       "      <td>15.541497</td>\n",
       "      <td>81.290237</td>\n",
       "      <td>89.095596</td>\n",
       "    </tr>\n",
       "    <tr>\n",
       "      <th>2010-01-06</th>\n",
       "      <td>6.433318</td>\n",
       "      <td>111.510002</td>\n",
       "      <td>15.149715</td>\n",
       "      <td>80.762169</td>\n",
       "      <td>89.158348</td>\n",
       "    </tr>\n",
       "    <tr>\n",
       "      <th>2010-01-07</th>\n",
       "      <td>6.421425</td>\n",
       "      <td>110.820000</td>\n",
       "      <td>14.797037</td>\n",
       "      <td>80.482605</td>\n",
       "      <td>89.534706</td>\n",
       "    </tr>\n",
       "    <tr>\n",
       "      <th>2010-01-08</th>\n",
       "      <td>6.464116</td>\n",
       "      <td>111.370003</td>\n",
       "      <td>14.994298</td>\n",
       "      <td>81.290237</td>\n",
       "      <td>89.832642</td>\n",
       "    </tr>\n",
       "  </tbody>\n",
       "</table>\n",
       "</div>"
      ],
      "text/plain": [
       "Close           AAPL         GLD       GOOG        IBM        SPY\n",
       "Date                                                             \n",
       "2010-01-04  6.526021  109.800003  15.610239  82.284225  88.860374\n",
       "2010-01-05  6.537304  109.699997  15.541497  81.290237  89.095596\n",
       "2010-01-06  6.433318  111.510002  15.149715  80.762169  89.158348\n",
       "2010-01-07  6.421425  110.820000  14.797037  80.482605  89.534706\n",
       "2010-01-08  6.464116  111.370003  14.994298  81.290237  89.832642"
      ]
     },
     "execution_count": 30,
     "metadata": {},
     "output_type": "execute_result"
    }
   ],
   "source": [
    "df.head()"
   ]
  },
  {
   "cell_type": "code",
   "execution_count": 40,
   "id": "f4ebdf76-23a9-48c0-8eec-252c6c745a32",
   "metadata": {},
   "outputs": [
    {
     "data": {
      "text/plain": [
       "array([[<AxesSubplot:title={'center':'SPY'}>,\n",
       "        <AxesSubplot:title={'center':'AAPL'}>]], dtype=object)"
      ]
     },
     "execution_count": 40,
     "metadata": {},
     "output_type": "execute_result"
    },
    {
     "data": {
      "image/png": "[encoded data removed]",
      "text/plain": [
       "<Figure size 1080x432 with 2 Axes>"
      ]
     },
     "metadata": {},
     "output_type": "display_data"
    }
   ],
   "source": [
    "df.pct_change().loc[:, ['SPY', 'AAPL']].hist(bins=50)"
   ]
  },
  {
   "cell_type": "code",
   "execution_count": 37,
   "id": "a391a1fc-463c-414a-85e8-8d41493aaaf7",
   "metadata": {},
   "outputs": [
    {
     "data": {
      "text/html": [
       "<div>\n",
       "<style scoped>\n",
       "    .dataframe tbody tr th:only-of-type {\n",
       "        vertical-align: middle;\n",
       "    }\n",
       "\n",
       "    .dataframe tbody tr th {\n",
       "        vertical-align: top;\n",
       "    }\n",
       "\n",
       "    .dataframe thead th {\n",
       "        text-align: right;\n",
       "    }\n",
       "</style>\n",
       "<table border=\"1\" class=\"dataframe\">\n",
       "  <thead>\n",
       "    <tr style=\"text-align: right;\">\n",
       "      <th>Close</th>\n",
       "      <th>AAPL</th>\n",
       "      <th>GLD</th>\n",
       "      <th>GOOG</th>\n",
       "      <th>IBM</th>\n",
       "      <th>SPY</th>\n",
       "    </tr>\n",
       "  </thead>\n",
       "  <tbody>\n",
       "    <tr>\n",
       "      <th>count</th>\n",
       "      <td>3218.000000</td>\n",
       "      <td>3218.000000</td>\n",
       "      <td>3218.000000</td>\n",
       "      <td>3218.000000</td>\n",
       "      <td>3218.000000</td>\n",
       "    </tr>\n",
       "    <tr>\n",
       "      <th>mean</th>\n",
       "      <td>0.001111</td>\n",
       "      <td>0.000152</td>\n",
       "      <td>0.000709</td>\n",
       "      <td>0.000218</td>\n",
       "      <td>0.000494</td>\n",
       "    </tr>\n",
       "    <tr>\n",
       "      <th>std</th>\n",
       "      <td>0.017936</td>\n",
       "      <td>0.009870</td>\n",
       "      <td>0.016808</td>\n",
       "      <td>0.014178</td>\n",
       "      <td>0.011022</td>\n",
       "    </tr>\n",
       "    <tr>\n",
       "      <th>min</th>\n",
       "      <td>-0.128647</td>\n",
       "      <td>-0.087808</td>\n",
       "      <td>-0.111008</td>\n",
       "      <td>-0.128507</td>\n",
       "      <td>-0.109424</td>\n",
       "    </tr>\n",
       "    <tr>\n",
       "      <th>25%</th>\n",
       "      <td>-0.007435</td>\n",
       "      <td>-0.004877</td>\n",
       "      <td>-0.006802</td>\n",
       "      <td>-0.006254</td>\n",
       "      <td>-0.003705</td>\n",
       "    </tr>\n",
       "    <tr>\n",
       "      <th>50%</th>\n",
       "      <td>0.000923</td>\n",
       "      <td>0.000421</td>\n",
       "      <td>0.000674</td>\n",
       "      <td>0.000397</td>\n",
       "      <td>0.000664</td>\n",
       "    </tr>\n",
       "    <tr>\n",
       "      <th>75%</th>\n",
       "      <td>0.010644</td>\n",
       "      <td>0.005363</td>\n",
       "      <td>0.008857</td>\n",
       "      <td>0.007005</td>\n",
       "      <td>0.005634</td>\n",
       "    </tr>\n",
       "    <tr>\n",
       "      <th>max</th>\n",
       "      <td>0.119808</td>\n",
       "      <td>0.049038</td>\n",
       "      <td>0.160524</td>\n",
       "      <td>0.113011</td>\n",
       "      <td>0.090603</td>\n",
       "    </tr>\n",
       "  </tbody>\n",
       "</table>\n",
       "</div>"
      ],
      "text/plain": [
       "Close         AAPL          GLD         GOOG          IBM          SPY\n",
       "count  3218.000000  3218.000000  3218.000000  3218.000000  3218.000000\n",
       "mean      0.001111     0.000152     0.000709     0.000218     0.000494\n",
       "std       0.017936     0.009870     0.016808     0.014178     0.011022\n",
       "min      -0.128647    -0.087808    -0.111008    -0.128507    -0.109424\n",
       "25%      -0.007435    -0.004877    -0.006802    -0.006254    -0.003705\n",
       "50%       0.000923     0.000421     0.000674     0.000397     0.000664\n",
       "75%       0.010644     0.005363     0.008857     0.007005     0.005634\n",
       "max       0.119808     0.049038     0.160524     0.113011     0.090603"
      ]
     },
     "execution_count": 37,
     "metadata": {},
     "output_type": "execute_result"
    }
   ],
   "source": [
    "df.pct_change().describe()"
   ]
  },
  {
   "cell_type": "code",
   "execution_count": 36,
   "id": "f4d958e0-c719-43cb-96a5-ba942da5cd1b",
   "metadata": {},
   "outputs": [
    {
     "data": {
      "text/plain": [
       "Close\n",
       "AAPL   -0.108051\n",
       "GLD    -0.461223\n",
       "GOOG    0.513659\n",
       "IBM    -0.503466\n",
       "SPY    -0.575276\n",
       "dtype: float64"
      ]
     },
     "execution_count": 36,
     "metadata": {},
     "output_type": "execute_result"
    }
   ],
   "source": [
    "df.pct_change().skew()"
   ]
  },
  {
   "cell_type": "code",
   "execution_count": 43,
   "id": "1ff7ae1a-6432-46fd-9575-7e46c17174fe",
   "metadata": {},
   "outputs": [
    {
     "data": {
      "text/plain": [
       "Close\n",
       "AAPL     5.180959\n",
       "GLD      4.795717\n",
       "GOOG     9.260209\n",
       "IBM      9.678603\n",
       "SPY     11.139896\n",
       "dtype: float64"
      ]
     },
     "execution_count": 43,
     "metadata": {},
     "output_type": "execute_result"
    }
   ],
   "source": [
    "df.pct_change().kurtosis()"
   ]
  },
  {
   "cell_type": "code",
   "execution_count": null,
   "id": "cdfd109e-2015-46e5-bb81-e8e9dfe909ec",
   "metadata": {},
   "outputs": [],
   "source": []
  }
 ],
 "metadata": {
  "kernelspec": {
   "display_name": "Python 3",
   "language": "python",
   "name": "python3"
  },
  "language_info": {
   "codemirror_mode": {
    "name": "ipython",
    "version": 3
   },
   "file_extension": ".py",
   "mimetype": "text/x-python",
   "name": "python",
   "nbconvert_exporter": "python",
   "pygments_lexer": "ipython3",
   "version": "3.6.9"
  }
 },
 "nbformat": 4,
 "nbformat_minor": 5
}
