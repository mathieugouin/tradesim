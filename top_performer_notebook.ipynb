{
 "cells": [
  {
   "attachments": {},
   "cell_type": "markdown",
   "id": "a112f34d",
   "metadata": {},
   "source": [
    "# Top"
   ]
  },
  {
   "cell_type": "code",
   "execution_count": 1,
   "id": "6ee5d498",
   "metadata": {},
   "outputs": [],
   "source": [
    "%load_ext autoreload\n",
    "%autoreload 2"
   ]
  },
  {
   "cell_type": "code",
   "execution_count": 2,
   "id": "5f80dacf",
   "metadata": {},
   "outputs": [],
   "source": [
    "# Standard\n",
    "import re\n",
    "import numpy as np\n",
    "import pandas as pd\n",
    "import matplotlib.pyplot as plt\n",
    "import seaborn as sns\n",
    "import sys\n",
    "import datetime\n",
    "\n",
    "# Custom\n",
    "import finance_utils as fu\n",
    "import stock_db_mgr as sdm"
   ]
  },
  {
   "cell_type": "code",
   "execution_count": 3,
   "id": "7c508bc8",
   "metadata": {},
   "outputs": [],
   "source": [
    "# Adjust figure size to be bigger:\n",
    "plt.rcParams['figure.figsize'] = [15, 6]"
   ]
  },
  {
   "cell_type": "code",
   "execution_count": 4,
   "id": "df9d5752",
   "metadata": {},
   "outputs": [],
   "source": [
    "# Set seaborn plot theme:\n",
    "sns.set_theme()"
   ]
  },
  {
   "attachments": {},
   "cell_type": "markdown",
   "id": "59394ce9",
   "metadata": {},
   "source": [
    "# Top Performer Strategy"
   ]
  },
  {
   "attachments": {},
   "cell_type": "markdown",
   "id": "d0d1cc06",
   "metadata": {},
   "source": [
    "* Make sure TSX symbol list are up to date\n",
    "* Download all TSX data\n",
    "* Create DB on TSX\n",
    "* Get close price on all symbols\n",
    "* Remove symbols that don't have valid last date data\n",
    "* Keep symbols with sufficient data\n",
    "* Fill NaN data"
   ]
  },
  {
   "attachments": {},
   "cell_type": "markdown",
   "id": "4d720939",
   "metadata": {},
   "source": [
    "## DB creation"
   ]
  },
  {
   "cell_type": "code",
   "execution_count": 5,
   "id": "23d47bf4",
   "metadata": {},
   "outputs": [],
   "source": [
    "db = sdm.StockDBMgr('stock_db/tsx')"
   ]
  },
  {
   "attachments": {},
   "cell_type": "markdown",
   "id": "1aa74639",
   "metadata": {},
   "source": [
    "## Get close price"
   ]
  },
  {
   "cell_type": "code",
   "execution_count": 6,
   "id": "38d38065",
   "metadata": {},
   "outputs": [],
   "source": [
    "dfa = db.get_all_symbol_single_data_item('Close')"
   ]
  },
  {
   "cell_type": "code",
   "execution_count": 7,
   "id": "6a745650",
   "metadata": {},
   "outputs": [
    {
     "data": {
      "text/html": [
       "<div>\n",
       "<style scoped>\n",
       "    .dataframe tbody tr th:only-of-type {\n",
       "        vertical-align: middle;\n",
       "    }\n",
       "\n",
       "    .dataframe tbody tr th {\n",
       "        vertical-align: top;\n",
       "    }\n",
       "\n",
       "    .dataframe thead th {\n",
       "        text-align: right;\n",
       "    }\n",
       "</style>\n",
       "<table border=\"1\" class=\"dataframe\">\n",
       "  <thead>\n",
       "    <tr style=\"text-align: right;\">\n",
       "      <th>Close</th>\n",
       "      <th>ABX.TO</th>\n",
       "      <th>AC.TO</th>\n",
       "      <th>ACB.TO</th>\n",
       "      <th>ACO-X.TO</th>\n",
       "      <th>AEM.TO</th>\n",
       "      <th>AGI.TO</th>\n",
       "      <th>AIF.TO</th>\n",
       "      <th>ALA.TO</th>\n",
       "      <th>AP-UN.TO</th>\n",
       "      <th>AQN.TO</th>\n",
       "      <th>...</th>\n",
       "      <th>WELL.TO</th>\n",
       "      <th>WFG.TO</th>\n",
       "      <th>WN.TO</th>\n",
       "      <th>WPK.TO</th>\n",
       "      <th>WPM.TO</th>\n",
       "      <th>WPRT.TO</th>\n",
       "      <th>WSP.TO</th>\n",
       "      <th>WTE.TO</th>\n",
       "      <th>X.TO</th>\n",
       "      <th>ZZZ.TO</th>\n",
       "    </tr>\n",
       "  </thead>\n",
       "  <tbody>\n",
       "    <tr>\n",
       "      <th>count</th>\n",
       "      <td>7138.000000</td>\n",
       "      <td>3308.000000</td>\n",
       "      <td>1674.000000</td>\n",
       "      <td>7140.000000</td>\n",
       "      <td>7138.000000</td>\n",
       "      <td>4937.000000</td>\n",
       "      <td>3732.000000</td>\n",
       "      <td>4785.000000</td>\n",
       "      <td>3731.000000</td>\n",
       "      <td>4937.000000</td>\n",
       "      <td>...</td>\n",
       "      <td>2611.000000</td>\n",
       "      <td>9444.000000</td>\n",
       "      <td>7139.000000</td>\n",
       "      <td>6738.000000</td>\n",
       "      <td>4648.000000</td>\n",
       "      <td>5940.000000</td>\n",
       "      <td>2364.000000</td>\n",
       "      <td>4936.000000</td>\n",
       "      <td>4943.000000</td>\n",
       "      <td>1981.000000</td>\n",
       "    </tr>\n",
       "    <tr>\n",
       "      <th>mean</th>\n",
       "      <td>24.030829</td>\n",
       "      <td>15.145792</td>\n",
       "      <td>42.990723</td>\n",
       "      <td>19.662581</td>\n",
       "      <td>34.692305</td>\n",
       "      <td>8.957930</td>\n",
       "      <td>23.843077</td>\n",
       "      <td>17.402545</td>\n",
       "      <td>25.554138</td>\n",
       "      <td>7.152890</td>\n",
       "      <td>...</td>\n",
       "      <td>1.837354</td>\n",
       "      <td>26.344961</td>\n",
       "      <td>66.901543</td>\n",
       "      <td>18.433556</td>\n",
       "      <td>25.327680</td>\n",
       "      <td>124.708764</td>\n",
       "      <td>78.253464</td>\n",
       "      <td>13.716623</td>\n",
       "      <td>52.618852</td>\n",
       "      <td>23.339894</td>\n",
       "    </tr>\n",
       "    <tr>\n",
       "      <th>std</th>\n",
       "      <td>7.251666</td>\n",
       "      <td>11.755490</td>\n",
       "      <td>46.826285</td>\n",
       "      <td>13.830196</td>\n",
       "      <td>22.358464</td>\n",
       "      <td>3.973398</td>\n",
       "      <td>17.914958</td>\n",
       "      <td>5.821715</td>\n",
       "      <td>10.626575</td>\n",
       "      <td>5.115239</td>\n",
       "      <td>...</td>\n",
       "      <td>2.530620</td>\n",
       "      <td>27.495072</td>\n",
       "      <td>34.400405</td>\n",
       "      <td>16.270674</td>\n",
       "      <td>15.717717</td>\n",
       "      <td>131.053068</td>\n",
       "      <td>48.530345</td>\n",
       "      <td>7.555082</td>\n",
       "      <td>38.429594</td>\n",
       "      <td>6.387706</td>\n",
       "    </tr>\n",
       "    <tr>\n",
       "      <th>min</th>\n",
       "      <td>7.048787</td>\n",
       "      <td>0.820000</td>\n",
       "      <td>0.670000</td>\n",
       "      <td>1.694719</td>\n",
       "      <td>3.492450</td>\n",
       "      <td>1.511481</td>\n",
       "      <td>1.959305</td>\n",
       "      <td>6.364613</td>\n",
       "      <td>5.155543</td>\n",
       "      <td>0.862284</td>\n",
       "      <td>...</td>\n",
       "      <td>0.005000</td>\n",
       "      <td>3.245269</td>\n",
       "      <td>8.283880</td>\n",
       "      <td>1.885874</td>\n",
       "      <td>2.610562</td>\n",
       "      <td>9.100000</td>\n",
       "      <td>24.834864</td>\n",
       "      <td>1.949556</td>\n",
       "      <td>7.831963</td>\n",
       "      <td>7.746731</td>\n",
       "    </tr>\n",
       "    <tr>\n",
       "      <th>25%</th>\n",
       "      <td>19.029768</td>\n",
       "      <td>3.507500</td>\n",
       "      <td>8.217500</td>\n",
       "      <td>6.531371</td>\n",
       "      <td>13.951282</td>\n",
       "      <td>6.090380</td>\n",
       "      <td>7.352969</td>\n",
       "      <td>12.825051</td>\n",
       "      <td>16.752945</td>\n",
       "      <td>3.356123</td>\n",
       "      <td>...</td>\n",
       "      <td>0.125000</td>\n",
       "      <td>9.506346</td>\n",
       "      <td>44.650126</td>\n",
       "      <td>5.453176</td>\n",
       "      <td>13.099431</td>\n",
       "      <td>35.000000</td>\n",
       "      <td>37.247991</td>\n",
       "      <td>5.998256</td>\n",
       "      <td>25.135365</td>\n",
       "      <td>18.072636</td>\n",
       "    </tr>\n",
       "    <tr>\n",
       "      <th>50%</th>\n",
       "      <td>22.921084</td>\n",
       "      <td>13.210000</td>\n",
       "      <td>24.540000</td>\n",
       "      <td>16.278467</td>\n",
       "      <td>31.920109</td>\n",
       "      <td>8.499855</td>\n",
       "      <td>18.499906</td>\n",
       "      <td>16.678467</td>\n",
       "      <td>25.685293</td>\n",
       "      <td>4.523166</td>\n",
       "      <td>...</td>\n",
       "      <td>0.400000</td>\n",
       "      <td>13.989386</td>\n",
       "      <td>62.840157</td>\n",
       "      <td>8.592533</td>\n",
       "      <td>23.029654</td>\n",
       "      <td>63.700001</td>\n",
       "      <td>62.725487</td>\n",
       "      <td>14.327959</td>\n",
       "      <td>37.364990</td>\n",
       "      <td>24.123781</td>\n",
       "    </tr>\n",
       "    <tr>\n",
       "      <th>75%</th>\n",
       "      <td>28.019450</td>\n",
       "      <td>23.150000</td>\n",
       "      <td>84.539999</td>\n",
       "      <td>33.793501</td>\n",
       "      <td>51.861281</td>\n",
       "      <td>11.372249</td>\n",
       "      <td>35.143688</td>\n",
       "      <td>21.873940</td>\n",
       "      <td>33.753011</td>\n",
       "      <td>10.262304</td>\n",
       "      <td>...</td>\n",
       "      <td>3.110000</td>\n",
       "      <td>38.867781</td>\n",
       "      <td>91.086151</td>\n",
       "      <td>38.481154</td>\n",
       "      <td>31.734182</td>\n",
       "      <td>180.424995</td>\n",
       "      <td>116.459379</td>\n",
       "      <td>18.954086</td>\n",
       "      <td>69.419968</td>\n",
       "      <td>28.028477</td>\n",
       "    </tr>\n",
       "    <tr>\n",
       "      <th>max</th>\n",
       "      <td>45.278152</td>\n",
       "      <td>52.090000</td>\n",
       "      <td>180.839996</td>\n",
       "      <td>47.128162</td>\n",
       "      <td>105.389008</td>\n",
       "      <td>18.822880</td>\n",
       "      <td>70.733627</td>\n",
       "      <td>32.215015</td>\n",
       "      <td>51.148510</td>\n",
       "      <td>19.892902</td>\n",
       "      <td>...</td>\n",
       "      <td>9.230000</td>\n",
       "      <td>129.079971</td>\n",
       "      <td>182.360001</td>\n",
       "      <td>55.874836</td>\n",
       "      <td>72.176750</td>\n",
       "      <td>805.000000</td>\n",
       "      <td>184.970398</td>\n",
       "      <td>35.544533</td>\n",
       "      <td>149.570007</td>\n",
       "      <td>38.630478</td>\n",
       "    </tr>\n",
       "  </tbody>\n",
       "</table>\n",
       "<p>8 rows × 223 columns</p>\n",
       "</div>"
      ],
      "text/plain": [
       "Close       ABX.TO        AC.TO       ACB.TO     ACO-X.TO       AEM.TO  \\\n",
       "count  7138.000000  3308.000000  1674.000000  7140.000000  7138.000000   \n",
       "mean     24.030829    15.145792    42.990723    19.662581    34.692305   \n",
       "std       7.251666    11.755490    46.826285    13.830196    22.358464   \n",
       "min       7.048787     0.820000     0.670000     1.694719     3.492450   \n",
       "25%      19.029768     3.507500     8.217500     6.531371    13.951282   \n",
       "50%      22.921084    13.210000    24.540000    16.278467    31.920109   \n",
       "75%      28.019450    23.150000    84.539999    33.793501    51.861281   \n",
       "max      45.278152    52.090000   180.839996    47.128162   105.389008   \n",
       "\n",
       "Close       AGI.TO       AIF.TO       ALA.TO     AP-UN.TO       AQN.TO  ...  \\\n",
       "count  4937.000000  3732.000000  4785.000000  3731.000000  4937.000000  ...   \n",
       "mean      8.957930    23.843077    17.402545    25.554138     7.152890  ...   \n",
       "std       3.973398    17.914958     5.821715    10.626575     5.115239  ...   \n",
       "min       1.511481     1.959305     6.364613     5.155543     0.862284  ...   \n",
       "25%       6.090380     7.352969    12.825051    16.752945     3.356123  ...   \n",
       "50%       8.499855    18.499906    16.678467    25.685293     4.523166  ...   \n",
       "75%      11.372249    35.143688    21.873940    33.753011    10.262304  ...   \n",
       "max      18.822880    70.733627    32.215015    51.148510    19.892902  ...   \n",
       "\n",
       "Close      WELL.TO       WFG.TO        WN.TO       WPK.TO       WPM.TO  \\\n",
       "count  2611.000000  9444.000000  7139.000000  6738.000000  4648.000000   \n",
       "mean      1.837354    26.344961    66.901543    18.433556    25.327680   \n",
       "std       2.530620    27.495072    34.400405    16.270674    15.717717   \n",
       "min       0.005000     3.245269     8.283880     1.885874     2.610562   \n",
       "25%       0.125000     9.506346    44.650126     5.453176    13.099431   \n",
       "50%       0.400000    13.989386    62.840157     8.592533    23.029654   \n",
       "75%       3.110000    38.867781    91.086151    38.481154    31.734182   \n",
       "max       9.230000   129.079971   182.360001    55.874836    72.176750   \n",
       "\n",
       "Close      WPRT.TO       WSP.TO       WTE.TO         X.TO       ZZZ.TO  \n",
       "count  5940.000000  2364.000000  4936.000000  4943.000000  1981.000000  \n",
       "mean    124.708764    78.253464    13.716623    52.618852    23.339894  \n",
       "std     131.053068    48.530345     7.555082    38.429594     6.387706  \n",
       "min       9.100000    24.834864     1.949556     7.831963     7.746731  \n",
       "25%      35.000000    37.247991     5.998256    25.135365    18.072636  \n",
       "50%      63.700001    62.725487    14.327959    37.364990    24.123781  \n",
       "75%     180.424995   116.459379    18.954086    69.419968    28.028477  \n",
       "max     805.000000   184.970398    35.544533   149.570007    38.630478  \n",
       "\n",
       "[8 rows x 223 columns]"
      ]
     },
     "execution_count": 7,
     "metadata": {},
     "output_type": "execute_result"
    }
   ],
   "source": [
    "dfa.describe()"
   ]
  },
  {
   "attachments": {},
   "cell_type": "markdown",
   "id": "b8764116",
   "metadata": {},
   "source": [
    "## Last date cleanup"
   ]
  },
  {
   "cell_type": "code",
   "execution_count": 8,
   "id": "87fe9913",
   "metadata": {},
   "outputs": [
    {
     "data": {
      "text/plain": [
       "<Axes: xlabel='Date'>"
      ]
     },
     "execution_count": 8,
     "metadata": {},
     "output_type": "execute_result"
    },
    {
     "data": {
      "image/png": "[encoded data removed]",
      "text/plain": [
       "<Figure size 1500x600 with 1 Axes>"
      ]
     },
     "metadata": {},
     "output_type": "display_data"
    }
   ],
   "source": [
    "# When do we have all valid data for all symbols?\n",
    "dfa.notna().all(1).mul(1).plot()"
   ]
  },
  {
   "cell_type": "code",
   "execution_count": 9,
   "id": "d7e96416",
   "metadata": {},
   "outputs": [
    {
     "data": {
      "text/plain": [
       "Index(['ABX.TO', 'AC.TO', 'ACB.TO', 'ACO-X.TO', 'AEM.TO', 'AGI.TO', 'AIF.TO',\n",
       "       'ALA.TO', 'AP-UN.TO', 'AQN.TO',\n",
       "       ...\n",
       "       'WELL.TO', 'WFG.TO', 'WN.TO', 'WPK.TO', 'WPM.TO', 'WPRT.TO', 'WSP.TO',\n",
       "       'WTE.TO', 'X.TO', 'ZZZ.TO'],\n",
       "      dtype='object', name='Close', length=221)"
      ]
     },
     "execution_count": 9,
     "metadata": {},
     "output_type": "execute_result"
    }
   ],
   "source": [
    "# Which symbols have last valid data\n",
    "dfa.columns[dfa.iloc[-1].notna()]"
   ]
  },
  {
   "cell_type": "code",
   "execution_count": 10,
   "id": "f98d5472",
   "metadata": {},
   "outputs": [],
   "source": [
    "# remove symbols with invalid data on last date\n",
    "dfa = dfa[dfa.columns[dfa.iloc[-1].notna()]]"
   ]
  },
  {
   "cell_type": "code",
   "execution_count": 11,
   "id": "bc2d1d12",
   "metadata": {},
   "outputs": [
    {
     "data": {
      "text/html": [
       "<div>\n",
       "<style scoped>\n",
       "    .dataframe tbody tr th:only-of-type {\n",
       "        vertical-align: middle;\n",
       "    }\n",
       "\n",
       "    .dataframe tbody tr th {\n",
       "        vertical-align: top;\n",
       "    }\n",
       "\n",
       "    .dataframe thead th {\n",
       "        text-align: right;\n",
       "    }\n",
       "</style>\n",
       "<table border=\"1\" class=\"dataframe\">\n",
       "  <thead>\n",
       "    <tr style=\"text-align: right;\">\n",
       "      <th>Close</th>\n",
       "      <th>ABX.TO</th>\n",
       "      <th>AC.TO</th>\n",
       "      <th>ACB.TO</th>\n",
       "      <th>ACO-X.TO</th>\n",
       "      <th>AEM.TO</th>\n",
       "      <th>AGI.TO</th>\n",
       "      <th>AIF.TO</th>\n",
       "      <th>ALA.TO</th>\n",
       "      <th>AP-UN.TO</th>\n",
       "      <th>AQN.TO</th>\n",
       "      <th>...</th>\n",
       "      <th>WELL.TO</th>\n",
       "      <th>WFG.TO</th>\n",
       "      <th>WN.TO</th>\n",
       "      <th>WPK.TO</th>\n",
       "      <th>WPM.TO</th>\n",
       "      <th>WPRT.TO</th>\n",
       "      <th>WSP.TO</th>\n",
       "      <th>WTE.TO</th>\n",
       "      <th>X.TO</th>\n",
       "      <th>ZZZ.TO</th>\n",
       "    </tr>\n",
       "  </thead>\n",
       "  <tbody>\n",
       "    <tr>\n",
       "      <th>count</th>\n",
       "      <td>7138.000000</td>\n",
       "      <td>3308.000000</td>\n",
       "      <td>1674.000000</td>\n",
       "      <td>7140.000000</td>\n",
       "      <td>7138.000000</td>\n",
       "      <td>4937.000000</td>\n",
       "      <td>3732.000000</td>\n",
       "      <td>4785.000000</td>\n",
       "      <td>3731.000000</td>\n",
       "      <td>4937.000000</td>\n",
       "      <td>...</td>\n",
       "      <td>2611.000000</td>\n",
       "      <td>9444.000000</td>\n",
       "      <td>7139.000000</td>\n",
       "      <td>6738.000000</td>\n",
       "      <td>4648.000000</td>\n",
       "      <td>5940.000000</td>\n",
       "      <td>2364.000000</td>\n",
       "      <td>4936.000000</td>\n",
       "      <td>4943.000000</td>\n",
       "      <td>1981.000000</td>\n",
       "    </tr>\n",
       "    <tr>\n",
       "      <th>mean</th>\n",
       "      <td>24.030829</td>\n",
       "      <td>15.145792</td>\n",
       "      <td>42.990723</td>\n",
       "      <td>19.662581</td>\n",
       "      <td>34.692305</td>\n",
       "      <td>8.957930</td>\n",
       "      <td>23.843077</td>\n",
       "      <td>17.402545</td>\n",
       "      <td>25.554138</td>\n",
       "      <td>7.152890</td>\n",
       "      <td>...</td>\n",
       "      <td>1.837354</td>\n",
       "      <td>26.344961</td>\n",
       "      <td>66.901543</td>\n",
       "      <td>18.433556</td>\n",
       "      <td>25.327680</td>\n",
       "      <td>124.708764</td>\n",
       "      <td>78.253464</td>\n",
       "      <td>13.716623</td>\n",
       "      <td>52.618852</td>\n",
       "      <td>23.339894</td>\n",
       "    </tr>\n",
       "    <tr>\n",
       "      <th>std</th>\n",
       "      <td>7.251666</td>\n",
       "      <td>11.755490</td>\n",
       "      <td>46.826285</td>\n",
       "      <td>13.830196</td>\n",
       "      <td>22.358464</td>\n",
       "      <td>3.973398</td>\n",
       "      <td>17.914958</td>\n",
       "      <td>5.821715</td>\n",
       "      <td>10.626575</td>\n",
       "      <td>5.115239</td>\n",
       "      <td>...</td>\n",
       "      <td>2.530620</td>\n",
       "      <td>27.495072</td>\n",
       "      <td>34.400405</td>\n",
       "      <td>16.270674</td>\n",
       "      <td>15.717717</td>\n",
       "      <td>131.053068</td>\n",
       "      <td>48.530345</td>\n",
       "      <td>7.555082</td>\n",
       "      <td>38.429594</td>\n",
       "      <td>6.387706</td>\n",
       "    </tr>\n",
       "    <tr>\n",
       "      <th>min</th>\n",
       "      <td>7.048787</td>\n",
       "      <td>0.820000</td>\n",
       "      <td>0.670000</td>\n",
       "      <td>1.694719</td>\n",
       "      <td>3.492450</td>\n",
       "      <td>1.511481</td>\n",
       "      <td>1.959305</td>\n",
       "      <td>6.364613</td>\n",
       "      <td>5.155543</td>\n",
       "      <td>0.862284</td>\n",
       "      <td>...</td>\n",
       "      <td>0.005000</td>\n",
       "      <td>3.245269</td>\n",
       "      <td>8.283880</td>\n",
       "      <td>1.885874</td>\n",
       "      <td>2.610562</td>\n",
       "      <td>9.100000</td>\n",
       "      <td>24.834864</td>\n",
       "      <td>1.949556</td>\n",
       "      <td>7.831963</td>\n",
       "      <td>7.746731</td>\n",
       "    </tr>\n",
       "    <tr>\n",
       "      <th>25%</th>\n",
       "      <td>19.029768</td>\n",
       "      <td>3.507500</td>\n",
       "      <td>8.217500</td>\n",
       "      <td>6.531371</td>\n",
       "      <td>13.951282</td>\n",
       "      <td>6.090380</td>\n",
       "      <td>7.352969</td>\n",
       "      <td>12.825051</td>\n",
       "      <td>16.752945</td>\n",
       "      <td>3.356123</td>\n",
       "      <td>...</td>\n",
       "      <td>0.125000</td>\n",
       "      <td>9.506346</td>\n",
       "      <td>44.650126</td>\n",
       "      <td>5.453176</td>\n",
       "      <td>13.099431</td>\n",
       "      <td>35.000000</td>\n",
       "      <td>37.247991</td>\n",
       "      <td>5.998256</td>\n",
       "      <td>25.135365</td>\n",
       "      <td>18.072636</td>\n",
       "    </tr>\n",
       "    <tr>\n",
       "      <th>50%</th>\n",
       "      <td>22.921084</td>\n",
       "      <td>13.210000</td>\n",
       "      <td>24.540000</td>\n",
       "      <td>16.278467</td>\n",
       "      <td>31.920109</td>\n",
       "      <td>8.499855</td>\n",
       "      <td>18.499906</td>\n",
       "      <td>16.678467</td>\n",
       "      <td>25.685293</td>\n",
       "      <td>4.523166</td>\n",
       "      <td>...</td>\n",
       "      <td>0.400000</td>\n",
       "      <td>13.989386</td>\n",
       "      <td>62.840157</td>\n",
       "      <td>8.592533</td>\n",
       "      <td>23.029654</td>\n",
       "      <td>63.700001</td>\n",
       "      <td>62.725487</td>\n",
       "      <td>14.327959</td>\n",
       "      <td>37.364990</td>\n",
       "      <td>24.123781</td>\n",
       "    </tr>\n",
       "    <tr>\n",
       "      <th>75%</th>\n",
       "      <td>28.019450</td>\n",
       "      <td>23.150000</td>\n",
       "      <td>84.539999</td>\n",
       "      <td>33.793501</td>\n",
       "      <td>51.861281</td>\n",
       "      <td>11.372249</td>\n",
       "      <td>35.143688</td>\n",
       "      <td>21.873940</td>\n",
       "      <td>33.753011</td>\n",
       "      <td>10.262304</td>\n",
       "      <td>...</td>\n",
       "      <td>3.110000</td>\n",
       "      <td>38.867781</td>\n",
       "      <td>91.086151</td>\n",
       "      <td>38.481154</td>\n",
       "      <td>31.734182</td>\n",
       "      <td>180.424995</td>\n",
       "      <td>116.459379</td>\n",
       "      <td>18.954086</td>\n",
       "      <td>69.419968</td>\n",
       "      <td>28.028477</td>\n",
       "    </tr>\n",
       "    <tr>\n",
       "      <th>max</th>\n",
       "      <td>45.278152</td>\n",
       "      <td>52.090000</td>\n",
       "      <td>180.839996</td>\n",
       "      <td>47.128162</td>\n",
       "      <td>105.389008</td>\n",
       "      <td>18.822880</td>\n",
       "      <td>70.733627</td>\n",
       "      <td>32.215015</td>\n",
       "      <td>51.148510</td>\n",
       "      <td>19.892902</td>\n",
       "      <td>...</td>\n",
       "      <td>9.230000</td>\n",
       "      <td>129.079971</td>\n",
       "      <td>182.360001</td>\n",
       "      <td>55.874836</td>\n",
       "      <td>72.176750</td>\n",
       "      <td>805.000000</td>\n",
       "      <td>184.970398</td>\n",
       "      <td>35.544533</td>\n",
       "      <td>149.570007</td>\n",
       "      <td>38.630478</td>\n",
       "    </tr>\n",
       "  </tbody>\n",
       "</table>\n",
       "<p>8 rows × 221 columns</p>\n",
       "</div>"
      ],
      "text/plain": [
       "Close       ABX.TO        AC.TO       ACB.TO     ACO-X.TO       AEM.TO  \\\n",
       "count  7138.000000  3308.000000  1674.000000  7140.000000  7138.000000   \n",
       "mean     24.030829    15.145792    42.990723    19.662581    34.692305   \n",
       "std       7.251666    11.755490    46.826285    13.830196    22.358464   \n",
       "min       7.048787     0.820000     0.670000     1.694719     3.492450   \n",
       "25%      19.029768     3.507500     8.217500     6.531371    13.951282   \n",
       "50%      22.921084    13.210000    24.540000    16.278467    31.920109   \n",
       "75%      28.019450    23.150000    84.539999    33.793501    51.861281   \n",
       "max      45.278152    52.090000   180.839996    47.128162   105.389008   \n",
       "\n",
       "Close       AGI.TO       AIF.TO       ALA.TO     AP-UN.TO       AQN.TO  ...  \\\n",
       "count  4937.000000  3732.000000  4785.000000  3731.000000  4937.000000  ...   \n",
       "mean      8.957930    23.843077    17.402545    25.554138     7.152890  ...   \n",
       "std       3.973398    17.914958     5.821715    10.626575     5.115239  ...   \n",
       "min       1.511481     1.959305     6.364613     5.155543     0.862284  ...   \n",
       "25%       6.090380     7.352969    12.825051    16.752945     3.356123  ...   \n",
       "50%       8.499855    18.499906    16.678467    25.685293     4.523166  ...   \n",
       "75%      11.372249    35.143688    21.873940    33.753011    10.262304  ...   \n",
       "max      18.822880    70.733627    32.215015    51.148510    19.892902  ...   \n",
       "\n",
       "Close      WELL.TO       WFG.TO        WN.TO       WPK.TO       WPM.TO  \\\n",
       "count  2611.000000  9444.000000  7139.000000  6738.000000  4648.000000   \n",
       "mean      1.837354    26.344961    66.901543    18.433556    25.327680   \n",
       "std       2.530620    27.495072    34.400405    16.270674    15.717717   \n",
       "min       0.005000     3.245269     8.283880     1.885874     2.610562   \n",
       "25%       0.125000     9.506346    44.650126     5.453176    13.099431   \n",
       "50%       0.400000    13.989386    62.840157     8.592533    23.029654   \n",
       "75%       3.110000    38.867781    91.086151    38.481154    31.734182   \n",
       "max       9.230000   129.079971   182.360001    55.874836    72.176750   \n",
       "\n",
       "Close      WPRT.TO       WSP.TO       WTE.TO         X.TO       ZZZ.TO  \n",
       "count  5940.000000  2364.000000  4936.000000  4943.000000  1981.000000  \n",
       "mean    124.708764    78.253464    13.716623    52.618852    23.339894  \n",
       "std     131.053068    48.530345     7.555082    38.429594     6.387706  \n",
       "min       9.100000    24.834864     1.949556     7.831963     7.746731  \n",
       "25%      35.000000    37.247991     5.998256    25.135365    18.072636  \n",
       "50%      63.700001    62.725487    14.327959    37.364990    24.123781  \n",
       "75%     180.424995   116.459379    18.954086    69.419968    28.028477  \n",
       "max     805.000000   184.970398    35.544533   149.570007    38.630478  \n",
       "\n",
       "[8 rows x 221 columns]"
      ]
     },
     "execution_count": 11,
     "metadata": {},
     "output_type": "execute_result"
    }
   ],
   "source": [
    "dfa.describe()"
   ]
  },
  {
   "cell_type": "code",
   "execution_count": 12,
   "id": "1fac12b3",
   "metadata": {},
   "outputs": [
    {
     "data": {
      "text/plain": [
       "<Axes: xlabel='Date'>"
      ]
     },
     "execution_count": 12,
     "metadata": {},
     "output_type": "execute_result"
    },
    {
     "data": {
      "image/png": "[encoded data removed]",
      "text/plain": [
       "<Figure size 1500x600 with 1 Axes>"
      ]
     },
     "metadata": {},
     "output_type": "display_data"
    }
   ],
   "source": [
    "# Confirm all good\n",
    "dfa.notna().all(1).mul(1).plot()"
   ]
  },
  {
   "attachments": {},
   "cell_type": "markdown",
   "id": "8075843d",
   "metadata": {},
   "source": [
    "## Keep symbols with sufficient data"
   ]
  },
  {
   "cell_type": "code",
   "execution_count": 13,
   "id": "1fbb5601",
   "metadata": {},
   "outputs": [
    {
     "data": {
      "text/plain": [
       "Timestamp('2021-05-05 00:00:00')"
      ]
     },
     "execution_count": 13,
     "metadata": {},
     "output_type": "execute_result"
    }
   ],
   "source": [
    "# First date when all valid\n",
    "dfa[dfa.notna().all(1)].iloc[0].name"
   ]
  },
  {
   "cell_type": "code",
   "execution_count": 14,
   "id": "cdfcb675",
   "metadata": {},
   "outputs": [
    {
     "data": {
      "text/plain": [
       "183"
      ]
     },
     "execution_count": 14,
     "metadata": {},
     "output_type": "execute_result"
    }
   ],
   "source": [
    "# How many stocks have valid data for more than 10 years.\n",
    "# About 253 trading days per year.\n",
    "(dfa.notna().mul(1).sum().sort_values().div(253) > 10).mul(1).sum()"
   ]
  },
  {
   "cell_type": "code",
   "execution_count": 15,
   "id": "43c1496b",
   "metadata": {},
   "outputs": [
    {
     "data": {
      "text/plain": [
       "Close\n",
       "ABX.TO       True\n",
       "AC.TO        True\n",
       "ACB.TO      False\n",
       "ACO-X.TO     True\n",
       "AEM.TO       True\n",
       "            ...  \n",
       "WPRT.TO      True\n",
       "WSP.TO      False\n",
       "WTE.TO       True\n",
       "X.TO         True\n",
       "ZZZ.TO      False\n",
       "Length: 221, dtype: bool"
      ]
     },
     "execution_count": 15,
     "metadata": {},
     "output_type": "execute_result"
    }
   ],
   "source": [
    "t = dfa.notna().mul(1).sum().div(253) > 10\n",
    "t"
   ]
  },
  {
   "cell_type": "code",
   "execution_count": 16,
   "id": "2265ae80",
   "metadata": {},
   "outputs": [
    {
     "data": {
      "text/plain": [
       "['ABX.TO',\n",
       " 'AC.TO',\n",
       " 'ACO-X.TO',\n",
       " 'AEM.TO',\n",
       " 'AGI.TO',\n",
       " 'AIF.TO',\n",
       " 'ALA.TO',\n",
       " 'AP-UN.TO',\n",
       " 'AQN.TO',\n",
       " 'ARE.TO',\n",
       " 'ARX.TO',\n",
       " 'ATD.TO',\n",
       " 'AX-UN.TO',\n",
       " 'BB.TO',\n",
       " 'BBD-B.TO',\n",
       " 'BCE.TO',\n",
       " 'BDGI.TO',\n",
       " 'BEI-UN.TO',\n",
       " 'BEP-UN.TO',\n",
       " 'BHC.TO',\n",
       " 'BIP-UN.TO',\n",
       " 'BIR.TO',\n",
       " 'BLDP.TO',\n",
       " 'BLX.TO',\n",
       " 'BMO.TO',\n",
       " 'BNS.TO',\n",
       " 'BTO.TO',\n",
       " 'BYD.TO',\n",
       " 'CAE.TO',\n",
       " 'CAR-UN.TO',\n",
       " 'CAS.TO',\n",
       " 'CCA.TO',\n",
       " 'CCL-B.TO',\n",
       " 'CCO.TO',\n",
       " 'CF.TO',\n",
       " 'CFP.TO',\n",
       " 'CG.TO',\n",
       " 'CIGI.TO',\n",
       " 'CIX.TO',\n",
       " 'CJR-B.TO',\n",
       " 'CJT.TO',\n",
       " 'CLS.TO',\n",
       " 'CM.TO',\n",
       " 'CNQ.TO',\n",
       " 'CNR.TO',\n",
       " 'CP.TO',\n",
       " 'CPG.TO',\n",
       " 'CPX.TO',\n",
       " 'CRR-UN.TO',\n",
       " 'CS.TO',\n",
       " 'CSH-UN.TO',\n",
       " 'CSU.TO',\n",
       " 'CTC-A.TO',\n",
       " 'CU.TO',\n",
       " 'CVE.TO',\n",
       " 'CWB.TO',\n",
       " 'D-UN.TO',\n",
       " 'DML.TO',\n",
       " 'DOL.TO',\n",
       " 'DPM.TO',\n",
       " 'DSG.TO',\n",
       " 'EDR.TO',\n",
       " 'EFN.TO',\n",
       " 'EIF.TO',\n",
       " 'ELD.TO',\n",
       " 'EMA.TO',\n",
       " 'EMP-A.TO',\n",
       " 'ENB.TO',\n",
       " 'ENGH.TO',\n",
       " 'EQB.TO',\n",
       " 'ERF.TO',\n",
       " 'FCR-UN.TO',\n",
       " 'FFH.TO',\n",
       " 'FM.TO',\n",
       " 'FNV.TO',\n",
       " 'FR.TO',\n",
       " 'FTS.TO',\n",
       " 'FTT.TO',\n",
       " 'FVI.TO',\n",
       " 'GEI.TO',\n",
       " 'GIB-A.TO',\n",
       " 'GIL.TO',\n",
       " 'GRT-UN.TO',\n",
       " 'GSY.TO',\n",
       " 'GWO.TO',\n",
       " 'HBM.TO',\n",
       " 'HCG.TO',\n",
       " 'HR-UN.TO',\n",
       " 'IAG.TO',\n",
       " 'IFC.TO',\n",
       " 'IFP.TO',\n",
       " 'IGM.TO',\n",
       " 'IIP-UN.TO',\n",
       " 'IMG.TO',\n",
       " 'IMO.TO',\n",
       " 'INE.TO',\n",
       " 'IVN.TO',\n",
       " 'K.TO',\n",
       " 'KEY.TO',\n",
       " 'KMP-UN.TO',\n",
       " 'KNT.TO',\n",
       " 'L.TO',\n",
       " 'LAC.TO',\n",
       " 'LB.TO',\n",
       " 'LIF.TO',\n",
       " 'LNR.TO',\n",
       " 'LUN.TO',\n",
       " 'MAG.TO',\n",
       " 'MEG.TO',\n",
       " 'MFC.TO',\n",
       " 'MFI.TO',\n",
       " 'MG.TO',\n",
       " 'MRE.TO',\n",
       " 'MRU.TO',\n",
       " 'MTL.TO',\n",
       " 'MTY.TO',\n",
       " 'MX.TO',\n",
       " 'NA.TO',\n",
       " 'NFI.TO',\n",
       " 'NG.TO',\n",
       " 'NGD.TO',\n",
       " 'NPI.TO',\n",
       " 'NWC.TO',\n",
       " 'NWH-UN.TO',\n",
       " 'OGC.TO',\n",
       " 'OGI.TO',\n",
       " 'ONEX.TO',\n",
       " 'OSK.TO',\n",
       " 'OTEX.TO',\n",
       " 'PAAS.TO',\n",
       " 'PBH.TO',\n",
       " 'PKI.TO',\n",
       " 'POW.TO',\n",
       " 'PPL.TO',\n",
       " 'PRMW.TO',\n",
       " 'PXT.TO',\n",
       " 'QBR-B.TO',\n",
       " 'RBA.TO',\n",
       " 'RCH.TO',\n",
       " 'RCI-B.TO',\n",
       " 'REI-UN.TO',\n",
       " 'RUS.TO',\n",
       " 'RY.TO',\n",
       " 'SAP.TO',\n",
       " 'SEA.TO',\n",
       " 'SIA.TO',\n",
       " 'SII.TO',\n",
       " 'SJ.TO',\n",
       " 'SLF.TO',\n",
       " 'SNC.TO',\n",
       " 'SOY.TO',\n",
       " 'SPB.TO',\n",
       " 'SRU-UN.TO',\n",
       " 'SSL.TO',\n",
       " 'SSRM.TO',\n",
       " 'STN.TO',\n",
       " 'SU.TO',\n",
       " 'SVM.TO',\n",
       " 'T.TO',\n",
       " 'TA.TO',\n",
       " 'TCL-A.TO',\n",
       " 'TCN.TO',\n",
       " 'TD.TO',\n",
       " 'TECK-B.TO',\n",
       " 'TFII.TO',\n",
       " 'TIH.TO',\n",
       " 'TOU.TO',\n",
       " 'TRI.TO',\n",
       " 'TRP.TO',\n",
       " 'TXG.TO',\n",
       " 'VET.TO',\n",
       " 'WCN.TO',\n",
       " 'WCP.TO',\n",
       " 'WDO.TO',\n",
       " 'WEED.TO',\n",
       " 'WELL.TO',\n",
       " 'WFG.TO',\n",
       " 'WN.TO',\n",
       " 'WPK.TO',\n",
       " 'WPM.TO',\n",
       " 'WPRT.TO',\n",
       " 'WTE.TO',\n",
       " 'X.TO']"
      ]
     },
     "execution_count": 16,
     "metadata": {},
     "output_type": "execute_result"
    }
   ],
   "source": [
    "t = list(t[t].index)\n",
    "t"
   ]
  },
  {
   "cell_type": "code",
   "execution_count": 17,
   "id": "03c2712c",
   "metadata": {},
   "outputs": [
    {
     "data": {
      "text/plain": [
       "<Axes: xlabel='Date'>"
      ]
     },
     "execution_count": 17,
     "metadata": {},
     "output_type": "execute_result"
    },
    {
     "data": {
      "image/png": "[encoded data removed]",
      "text/plain": [
       "<Figure size 1500x600 with 1 Axes>"
      ]
     },
     "metadata": {},
     "output_type": "display_data"
    }
   ],
   "source": [
    "dfa.notna().all(1).mul(1).plot()"
   ]
  },
  {
   "cell_type": "code",
   "execution_count": 18,
   "id": "6e285350",
   "metadata": {},
   "outputs": [
    {
     "data": {
      "text/plain": [
       "<Axes: xlabel='Date'>"
      ]
     },
     "execution_count": 18,
     "metadata": {},
     "output_type": "execute_result"
    },
    {
     "data": {
      "image/png": "[encoded data removed]",
      "text/plain": [
       "<Figure size 1500x600 with 1 Axes>"
      ]
     },
     "metadata": {},
     "output_type": "display_data"
    }
   ],
   "source": [
    "dfa[t].notna().all(1).mul(1).plot()"
   ]
  },
  {
   "cell_type": "code",
   "execution_count": 19,
   "id": "8c9283a8",
   "metadata": {},
   "outputs": [
    {
     "data": {
      "text/plain": [
       "<Axes: xlabel='Date'>"
      ]
     },
     "execution_count": 19,
     "metadata": {},
     "output_type": "execute_result"
    },
    {
     "data": {
      "image/png": "[encoded data removed]",
      "text/plain": [
       "<Figure size 1500x600 with 1 Axes>"
      ]
     },
     "metadata": {},
     "output_type": "display_data"
    }
   ],
   "source": [
    "dfa[t].notna().all(1).mul(1)['2012-01-01':].plot()"
   ]
  },
  {
   "cell_type": "code",
   "execution_count": 20,
   "id": "5350ee5f",
   "metadata": {},
   "outputs": [
    {
     "data": {
      "text/plain": [
       "Timestamp('2013-01-08 00:00:00')"
      ]
     },
     "execution_count": 20,
     "metadata": {},
     "output_type": "execute_result"
    }
   ],
   "source": [
    "dfa[dfa[t].notna().all(1)].iloc[0].name"
   ]
  },
  {
   "cell_type": "code",
   "execution_count": 21,
   "id": "f52ee008",
   "metadata": {},
   "outputs": [],
   "source": [
    "# From valid date\n",
    "dfv = dfa[t].loc[_ : ]"
   ]
  },
  {
   "attachments": {},
   "cell_type": "markdown",
   "id": "ed309fd1",
   "metadata": {},
   "source": [
    "## Fill NaN data"
   ]
  },
  {
   "cell_type": "code",
   "execution_count": 22,
   "id": "28dde173",
   "metadata": {},
   "outputs": [],
   "source": [
    "dfv = fu.fill_nan_data(dfv)"
   ]
  },
  {
   "cell_type": "code",
   "execution_count": 23,
   "id": "94d44254",
   "metadata": {},
   "outputs": [
    {
     "data": {
      "text/plain": [
       "True"
      ]
     },
     "execution_count": 23,
     "metadata": {},
     "output_type": "execute_result"
    }
   ],
   "source": [
    "dfv.notna().all(0).all()"
   ]
  },
  {
   "attachments": {},
   "cell_type": "markdown",
   "id": "f0f93587",
   "metadata": {},
   "source": [
    "# Analysis parameters"
   ]
  },
  {
   "cell_type": "code",
   "execution_count": 24,
   "id": "e89c74ad",
   "metadata": {},
   "outputs": [],
   "source": [
    "# parameters\n",
    "# i: start day\n",
    "# d: duration increment\n",
    "i = 0\n",
    "d = 253 # About 253 trading days per year"
   ]
  },
  {
   "cell_type": "code",
   "execution_count": 25,
   "id": "e90ca144",
   "metadata": {},
   "outputs": [],
   "source": [
    "# Nb of symbols\n",
    "n = len(dfv.columns)"
   ]
  },
  {
   "cell_type": "code",
   "execution_count": 26,
   "id": "59e27962",
   "metadata": {},
   "outputs": [],
   "source": [
    "# Nb of best symbols to keep\n",
    "k = 5"
   ]
  },
  {
   "cell_type": "code",
   "execution_count": 27,
   "id": "f773584e",
   "metadata": {},
   "outputs": [
    {
     "data": {
      "text/html": [
       "<div>\n",
       "<style scoped>\n",
       "    .dataframe tbody tr th:only-of-type {\n",
       "        vertical-align: middle;\n",
       "    }\n",
       "\n",
       "    .dataframe tbody tr th {\n",
       "        vertical-align: top;\n",
       "    }\n",
       "\n",
       "    .dataframe thead th {\n",
       "        text-align: right;\n",
       "    }\n",
       "</style>\n",
       "<table border=\"1\" class=\"dataframe\">\n",
       "  <thead>\n",
       "    <tr style=\"text-align: right;\">\n",
       "      <th>Close</th>\n",
       "      <th>ABX.TO</th>\n",
       "      <th>AC.TO</th>\n",
       "      <th>ACO-X.TO</th>\n",
       "      <th>AEM.TO</th>\n",
       "      <th>AGI.TO</th>\n",
       "      <th>AIF.TO</th>\n",
       "      <th>ALA.TO</th>\n",
       "      <th>AP-UN.TO</th>\n",
       "      <th>AQN.TO</th>\n",
       "      <th>ARE.TO</th>\n",
       "      <th>...</th>\n",
       "      <th>WDO.TO</th>\n",
       "      <th>WEED.TO</th>\n",
       "      <th>WELL.TO</th>\n",
       "      <th>WFG.TO</th>\n",
       "      <th>WN.TO</th>\n",
       "      <th>WPK.TO</th>\n",
       "      <th>WPM.TO</th>\n",
       "      <th>WPRT.TO</th>\n",
       "      <th>WTE.TO</th>\n",
       "      <th>X.TO</th>\n",
       "    </tr>\n",
       "    <tr>\n",
       "      <th>Date</th>\n",
       "      <th></th>\n",
       "      <th></th>\n",
       "      <th></th>\n",
       "      <th></th>\n",
       "      <th></th>\n",
       "      <th></th>\n",
       "      <th></th>\n",
       "      <th></th>\n",
       "      <th></th>\n",
       "      <th></th>\n",
       "      <th></th>\n",
       "      <th></th>\n",
       "      <th></th>\n",
       "      <th></th>\n",
       "      <th></th>\n",
       "      <th></th>\n",
       "      <th></th>\n",
       "      <th></th>\n",
       "      <th></th>\n",
       "      <th></th>\n",
       "      <th></th>\n",
       "    </tr>\n",
       "  </thead>\n",
       "  <tbody>\n",
       "    <tr>\n",
       "      <th>2013-01-08</th>\n",
       "      <td>27.964243</td>\n",
       "      <td>1.99</td>\n",
       "      <td>28.876032</td>\n",
       "      <td>41.463142</td>\n",
       "      <td>14.989528</td>\n",
       "      <td>6.616485</td>\n",
       "      <td>19.123066</td>\n",
       "      <td>21.206135</td>\n",
       "      <td>4.369480</td>\n",
       "      <td>8.000710</td>\n",
       "      <td>...</td>\n",
       "      <td>0.85</td>\n",
       "      <td>0.25</td>\n",
       "      <td>0.14</td>\n",
       "      <td>34.841347</td>\n",
       "      <td>56.511395</td>\n",
       "      <td>12.338365</td>\n",
       "      <td>30.036758</td>\n",
       "      <td>270.600006</td>\n",
       "      <td>17.871071</td>\n",
       "      <td>38.023548</td>\n",
       "    </tr>\n",
       "    <tr>\n",
       "      <th>2013-01-09</th>\n",
       "      <td>28.014874</td>\n",
       "      <td>2.14</td>\n",
       "      <td>29.079878</td>\n",
       "      <td>41.387501</td>\n",
       "      <td>15.098672</td>\n",
       "      <td>6.608607</td>\n",
       "      <td>19.002783</td>\n",
       "      <td>21.141193</td>\n",
       "      <td>4.393891</td>\n",
       "      <td>7.958377</td>\n",
       "      <td>...</td>\n",
       "      <td>0.87</td>\n",
       "      <td>0.25</td>\n",
       "      <td>0.13</td>\n",
       "      <td>34.768631</td>\n",
       "      <td>57.079647</td>\n",
       "      <td>12.271806</td>\n",
       "      <td>30.097071</td>\n",
       "      <td>280.500000</td>\n",
       "      <td>17.631447</td>\n",
       "      <td>38.210861</td>\n",
       "    </tr>\n",
       "    <tr>\n",
       "      <th>2013-01-10</th>\n",
       "      <td>28.647743</td>\n",
       "      <td>2.12</td>\n",
       "      <td>28.861721</td>\n",
       "      <td>41.958931</td>\n",
       "      <td>15.617122</td>\n",
       "      <td>6.695251</td>\n",
       "      <td>19.088696</td>\n",
       "      <td>21.225611</td>\n",
       "      <td>4.430506</td>\n",
       "      <td>8.064208</td>\n",
       "      <td>...</td>\n",
       "      <td>0.87</td>\n",
       "      <td>0.25</td>\n",
       "      <td>0.13</td>\n",
       "      <td>34.764069</td>\n",
       "      <td>57.779667</td>\n",
       "      <td>12.271806</td>\n",
       "      <td>30.855307</td>\n",
       "      <td>275.100006</td>\n",
       "      <td>17.675591</td>\n",
       "      <td>38.210861</td>\n",
       "    </tr>\n",
       "    <tr>\n",
       "      <th>2013-01-11</th>\n",
       "      <td>28.453671</td>\n",
       "      <td>2.09</td>\n",
       "      <td>29.205059</td>\n",
       "      <td>42.152218</td>\n",
       "      <td>15.389733</td>\n",
       "      <td>6.616485</td>\n",
       "      <td>19.168879</td>\n",
       "      <td>21.498405</td>\n",
       "      <td>4.461019</td>\n",
       "      <td>7.986597</td>\n",
       "      <td>...</td>\n",
       "      <td>0.89</td>\n",
       "      <td>0.25</td>\n",
       "      <td>0.13</td>\n",
       "      <td>34.600464</td>\n",
       "      <td>57.960842</td>\n",
       "      <td>12.230209</td>\n",
       "      <td>30.812225</td>\n",
       "      <td>276.200012</td>\n",
       "      <td>17.574696</td>\n",
       "      <td>38.855186</td>\n",
       "    </tr>\n",
       "    <tr>\n",
       "      <th>2013-01-14</th>\n",
       "      <td>28.411470</td>\n",
       "      <td>2.15</td>\n",
       "      <td>29.487589</td>\n",
       "      <td>41.942131</td>\n",
       "      <td>13.552422</td>\n",
       "      <td>6.640116</td>\n",
       "      <td>19.123066</td>\n",
       "      <td>21.953049</td>\n",
       "      <td>4.461019</td>\n",
       "      <td>7.887824</td>\n",
       "      <td>...</td>\n",
       "      <td>0.88</td>\n",
       "      <td>0.25</td>\n",
       "      <td>0.13</td>\n",
       "      <td>34.818611</td>\n",
       "      <td>57.960842</td>\n",
       "      <td>12.196927</td>\n",
       "      <td>30.803612</td>\n",
       "      <td>270.200012</td>\n",
       "      <td>17.637756</td>\n",
       "      <td>38.862690</td>\n",
       "    </tr>\n",
       "    <tr>\n",
       "      <th>...</th>\n",
       "      <td>...</td>\n",
       "      <td>...</td>\n",
       "      <td>...</td>\n",
       "      <td>...</td>\n",
       "      <td>...</td>\n",
       "      <td>...</td>\n",
       "      <td>...</td>\n",
       "      <td>...</td>\n",
       "      <td>...</td>\n",
       "      <td>...</td>\n",
       "      <td>...</td>\n",
       "      <td>...</td>\n",
       "      <td>...</td>\n",
       "      <td>...</td>\n",
       "      <td>...</td>\n",
       "      <td>...</td>\n",
       "      <td>...</td>\n",
       "      <td>...</td>\n",
       "      <td>...</td>\n",
       "      <td>...</td>\n",
       "      <td>...</td>\n",
       "    </tr>\n",
       "    <tr>\n",
       "      <th>2014-01-03</th>\n",
       "      <td>16.831673</td>\n",
       "      <td>7.50</td>\n",
       "      <td>33.745365</td>\n",
       "      <td>24.887463</td>\n",
       "      <td>12.212243</td>\n",
       "      <td>13.927230</td>\n",
       "      <td>24.261343</td>\n",
       "      <td>22.248886</td>\n",
       "      <td>4.546278</td>\n",
       "      <td>11.542318</td>\n",
       "      <td>...</td>\n",
       "      <td>0.63</td>\n",
       "      <td>0.05</td>\n",
       "      <td>0.22</td>\n",
       "      <td>47.179138</td>\n",
       "      <td>64.737289</td>\n",
       "      <td>18.687403</td>\n",
       "      <td>19.713619</td>\n",
       "      <td>208.600006</td>\n",
       "      <td>23.112209</td>\n",
       "      <td>39.707024</td>\n",
       "    </tr>\n",
       "    <tr>\n",
       "      <th>2014-01-06</th>\n",
       "      <td>17.067011</td>\n",
       "      <td>7.39</td>\n",
       "      <td>33.556320</td>\n",
       "      <td>25.198448</td>\n",
       "      <td>12.110705</td>\n",
       "      <td>13.960571</td>\n",
       "      <td>24.309067</td>\n",
       "      <td>22.485867</td>\n",
       "      <td>4.616615</td>\n",
       "      <td>11.636330</td>\n",
       "      <td>...</td>\n",
       "      <td>0.61</td>\n",
       "      <td>0.05</td>\n",
       "      <td>0.22</td>\n",
       "      <td>47.403202</td>\n",
       "      <td>64.568314</td>\n",
       "      <td>18.628819</td>\n",
       "      <td>19.976824</td>\n",
       "      <td>215.600006</td>\n",
       "      <td>23.039724</td>\n",
       "      <td>39.892609</td>\n",
       "    </tr>\n",
       "    <tr>\n",
       "      <th>2014-01-07</th>\n",
       "      <td>17.145470</td>\n",
       "      <td>7.36</td>\n",
       "      <td>34.021667</td>\n",
       "      <td>25.371220</td>\n",
       "      <td>12.193782</td>\n",
       "      <td>13.993912</td>\n",
       "      <td>24.297131</td>\n",
       "      <td>22.594200</td>\n",
       "      <td>4.699738</td>\n",
       "      <td>11.715882</td>\n",
       "      <td>...</td>\n",
       "      <td>0.64</td>\n",
       "      <td>0.05</td>\n",
       "      <td>0.22</td>\n",
       "      <td>47.787338</td>\n",
       "      <td>65.049843</td>\n",
       "      <td>18.620451</td>\n",
       "      <td>20.099646</td>\n",
       "      <td>225.600006</td>\n",
       "      <td>23.145155</td>\n",
       "      <td>39.776630</td>\n",
       "    </tr>\n",
       "    <tr>\n",
       "      <th>2014-01-08</th>\n",
       "      <td>16.883970</td>\n",
       "      <td>7.32</td>\n",
       "      <td>33.825336</td>\n",
       "      <td>24.991117</td>\n",
       "      <td>12.166091</td>\n",
       "      <td>14.318962</td>\n",
       "      <td>24.106283</td>\n",
       "      <td>22.533266</td>\n",
       "      <td>4.738103</td>\n",
       "      <td>11.715882</td>\n",
       "      <td>...</td>\n",
       "      <td>0.59</td>\n",
       "      <td>0.05</td>\n",
       "      <td>0.22</td>\n",
       "      <td>48.930573</td>\n",
       "      <td>66.173439</td>\n",
       "      <td>18.871511</td>\n",
       "      <td>19.950504</td>\n",
       "      <td>223.800003</td>\n",
       "      <td>23.270334</td>\n",
       "      <td>38.694054</td>\n",
       "    </tr>\n",
       "    <tr>\n",
       "      <th>2014-01-09</th>\n",
       "      <td>16.770655</td>\n",
       "      <td>7.95</td>\n",
       "      <td>33.912617</td>\n",
       "      <td>24.377789</td>\n",
       "      <td>11.926095</td>\n",
       "      <td>14.085589</td>\n",
       "      <td>24.273272</td>\n",
       "      <td>22.465555</td>\n",
       "      <td>4.667768</td>\n",
       "      <td>11.658025</td>\n",
       "      <td>...</td>\n",
       "      <td>0.61</td>\n",
       "      <td>0.05</td>\n",
       "      <td>0.22</td>\n",
       "      <td>48.948875</td>\n",
       "      <td>66.528259</td>\n",
       "      <td>19.047251</td>\n",
       "      <td>19.380241</td>\n",
       "      <td>216.000000</td>\n",
       "      <td>23.224215</td>\n",
       "      <td>38.199169</td>\n",
       "    </tr>\n",
       "  </tbody>\n",
       "</table>\n",
       "<p>253 rows × 183 columns</p>\n",
       "</div>"
      ],
      "text/plain": [
       "Close          ABX.TO  AC.TO   ACO-X.TO     AEM.TO     AGI.TO     AIF.TO  \\\n",
       "Date                                                                       \n",
       "2013-01-08  27.964243   1.99  28.876032  41.463142  14.989528   6.616485   \n",
       "2013-01-09  28.014874   2.14  29.079878  41.387501  15.098672   6.608607   \n",
       "2013-01-10  28.647743   2.12  28.861721  41.958931  15.617122   6.695251   \n",
       "2013-01-11  28.453671   2.09  29.205059  42.152218  15.389733   6.616485   \n",
       "2013-01-14  28.411470   2.15  29.487589  41.942131  13.552422   6.640116   \n",
       "...               ...    ...        ...        ...        ...        ...   \n",
       "2014-01-03  16.831673   7.50  33.745365  24.887463  12.212243  13.927230   \n",
       "2014-01-06  17.067011   7.39  33.556320  25.198448  12.110705  13.960571   \n",
       "2014-01-07  17.145470   7.36  34.021667  25.371220  12.193782  13.993912   \n",
       "2014-01-08  16.883970   7.32  33.825336  24.991117  12.166091  14.318962   \n",
       "2014-01-09  16.770655   7.95  33.912617  24.377789  11.926095  14.085589   \n",
       "\n",
       "Close          ALA.TO   AP-UN.TO    AQN.TO     ARE.TO  ...  WDO.TO  WEED.TO  \\\n",
       "Date                                                   ...                    \n",
       "2013-01-08  19.123066  21.206135  4.369480   8.000710  ...    0.85     0.25   \n",
       "2013-01-09  19.002783  21.141193  4.393891   7.958377  ...    0.87     0.25   \n",
       "2013-01-10  19.088696  21.225611  4.430506   8.064208  ...    0.87     0.25   \n",
       "2013-01-11  19.168879  21.498405  4.461019   7.986597  ...    0.89     0.25   \n",
       "2013-01-14  19.123066  21.953049  4.461019   7.887824  ...    0.88     0.25   \n",
       "...               ...        ...       ...        ...  ...     ...      ...   \n",
       "2014-01-03  24.261343  22.248886  4.546278  11.542318  ...    0.63     0.05   \n",
       "2014-01-06  24.309067  22.485867  4.616615  11.636330  ...    0.61     0.05   \n",
       "2014-01-07  24.297131  22.594200  4.699738  11.715882  ...    0.64     0.05   \n",
       "2014-01-08  24.106283  22.533266  4.738103  11.715882  ...    0.59     0.05   \n",
       "2014-01-09  24.273272  22.465555  4.667768  11.658025  ...    0.61     0.05   \n",
       "\n",
       "Close       WELL.TO     WFG.TO      WN.TO     WPK.TO     WPM.TO     WPRT.TO  \\\n",
       "Date                                                                          \n",
       "2013-01-08     0.14  34.841347  56.511395  12.338365  30.036758  270.600006   \n",
       "2013-01-09     0.13  34.768631  57.079647  12.271806  30.097071  280.500000   \n",
       "2013-01-10     0.13  34.764069  57.779667  12.271806  30.855307  275.100006   \n",
       "2013-01-11     0.13  34.600464  57.960842  12.230209  30.812225  276.200012   \n",
       "2013-01-14     0.13  34.818611  57.960842  12.196927  30.803612  270.200012   \n",
       "...             ...        ...        ...        ...        ...         ...   \n",
       "2014-01-03     0.22  47.179138  64.737289  18.687403  19.713619  208.600006   \n",
       "2014-01-06     0.22  47.403202  64.568314  18.628819  19.976824  215.600006   \n",
       "2014-01-07     0.22  47.787338  65.049843  18.620451  20.099646  225.600006   \n",
       "2014-01-08     0.22  48.930573  66.173439  18.871511  19.950504  223.800003   \n",
       "2014-01-09     0.22  48.948875  66.528259  19.047251  19.380241  216.000000   \n",
       "\n",
       "Close          WTE.TO       X.TO  \n",
       "Date                              \n",
       "2013-01-08  17.871071  38.023548  \n",
       "2013-01-09  17.631447  38.210861  \n",
       "2013-01-10  17.675591  38.210861  \n",
       "2013-01-11  17.574696  38.855186  \n",
       "2013-01-14  17.637756  38.862690  \n",
       "...               ...        ...  \n",
       "2014-01-03  23.112209  39.707024  \n",
       "2014-01-06  23.039724  39.892609  \n",
       "2014-01-07  23.145155  39.776630  \n",
       "2014-01-08  23.270334  38.694054  \n",
       "2014-01-09  23.224215  38.199169  \n",
       "\n",
       "[253 rows x 183 columns]"
      ]
     },
     "execution_count": 27,
     "metadata": {},
     "output_type": "execute_result"
    }
   ],
   "source": [
    "dfv.iloc[i : i + d]"
   ]
  },
  {
   "attachments": {},
   "cell_type": "markdown",
   "id": "278a8d09",
   "metadata": {},
   "source": [
    "## Return for all - current period"
   ]
  },
  {
   "cell_type": "code",
   "execution_count": 28,
   "id": "1dd87c89",
   "metadata": {},
   "outputs": [
    {
     "data": {
      "text/plain": [
       "0.18072875459145576"
      ]
     },
     "execution_count": 28,
     "metadata": {},
     "output_type": "execute_result"
    }
   ],
   "source": [
    "fu.normalize_data_frame(dfv.iloc[i : i + d]).iloc[-1].div(n).sum() - 1"
   ]
  },
  {
   "attachments": {},
   "cell_type": "markdown",
   "id": "8c433fcb",
   "metadata": {},
   "source": [
    "## Find best performing stocks"
   ]
  },
  {
   "cell_type": "code",
   "execution_count": 29,
   "id": "a7fcdadf",
   "metadata": {},
   "outputs": [
    {
     "data": {
      "text/plain": [
       "Close\n",
       "AC.TO      2.994975\n",
       "BLDP.TO    2.373134\n",
       "BDGI.TO    2.136735\n",
       "BHC.TO     1.331979\n",
       "AIF.TO     1.128863\n",
       "Name: 2014-01-09 00:00:00, dtype: float64"
      ]
     },
     "execution_count": 29,
     "metadata": {},
     "output_type": "execute_result"
    }
   ],
   "source": [
    "b = fu.normalize_data_frame(dfv.iloc[i : i + d]).iloc[-1].sub(1).sort_values(ascending=False).iloc[:k]\n",
    "b"
   ]
  },
  {
   "attachments": {},
   "cell_type": "markdown",
   "id": "40eff383",
   "metadata": {},
   "source": [
    "## Return for best - current period"
   ]
  },
  {
   "cell_type": "code",
   "execution_count": 30,
   "id": "e1a506b1",
   "metadata": {},
   "outputs": [
    {
     "data": {
      "text/plain": [
       "1.993137178414265"
      ]
     },
     "execution_count": 30,
     "metadata": {},
     "output_type": "execute_result"
    }
   ],
   "source": [
    "fu.normalize_data_frame(dfv[b.index].iloc[i : i + d]).iloc[-1].div(k).sum() - 1"
   ]
  },
  {
   "attachments": {},
   "cell_type": "markdown",
   "id": "26450810",
   "metadata": {},
   "source": [
    "## Return for all - next period"
   ]
  },
  {
   "cell_type": "code",
   "execution_count": 31,
   "id": "0368887c",
   "metadata": {},
   "outputs": [
    {
     "data": {
      "text/plain": [
       "0.35635930612369027"
      ]
     },
     "execution_count": 31,
     "metadata": {},
     "output_type": "execute_result"
    }
   ],
   "source": [
    "fu.normalize_data_frame(dfv.iloc[i + d : i + 2 * d]).iloc[-1].div(n).sum() - 1"
   ]
  },
  {
   "attachments": {},
   "cell_type": "markdown",
   "id": "f8958176",
   "metadata": {},
   "source": [
    "## Return for best - next period"
   ]
  },
  {
   "cell_type": "code",
   "execution_count": 32,
   "id": "81c50573",
   "metadata": {},
   "outputs": [
    {
     "data": {
      "text/plain": [
       "0.10175603602932415"
      ]
     },
     "execution_count": 32,
     "metadata": {},
     "output_type": "execute_result"
    }
   ],
   "source": [
    "fu.normalize_data_frame(dfv[b.index].iloc[i + d : i + 2 * d]).iloc[-1].div(k).sum() - 1"
   ]
  },
  {
   "cell_type": "code",
   "execution_count": null,
   "id": "6e6ba492",
   "metadata": {},
   "outputs": [],
   "source": [
    "# ... oops...\n",
    "\n",
    "# need to try other time period, other duration..."
   ]
  }
 ],
 "metadata": {
  "kernelspec": {
   "display_name": "Python 3",
   "language": "python",
   "name": "python3"
  },
  "language_info": {
   "codemirror_mode": {
    "name": "ipython",
    "version": 3
   },
   "file_extension": ".py",
   "mimetype": "text/x-python",
   "name": "python",
   "nbconvert_exporter": "python",
   "pygments_lexer": "ipython3",
   "version": "3.10.4"
  }
 },
 "nbformat": 4,
 "nbformat_minor": 5
}
