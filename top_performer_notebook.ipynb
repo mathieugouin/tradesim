{
 "cells": [
  {
   "attachments": {},
   "cell_type": "markdown",
   "id": "a112f34d",
   "metadata": {},
   "source": [
    "# Top"
   ]
  },
  {
   "cell_type": "code",
   "execution_count": 1,
   "id": "6ee5d498",
   "metadata": {},
   "outputs": [],
   "source": [
    "%load_ext autoreload\n",
    "%autoreload 2"
   ]
  },
  {
   "cell_type": "code",
   "execution_count": 2,
   "id": "5f80dacf",
   "metadata": {},
   "outputs": [],
   "source": [
    "# Standard\n",
    "import numpy as np\n",
    "import pandas as pd\n",
    "import matplotlib.pyplot as plt\n",
    "import seaborn as sns\n",
    "\n",
    "# Custom\n",
    "import finance_utils as fu\n",
    "import stock_db_mgr as sdm"
   ]
  },
  {
   "cell_type": "code",
   "execution_count": 3,
   "id": "7c508bc8",
   "metadata": {},
   "outputs": [],
   "source": [
    "# Adjust figure size to be bigger:\n",
    "plt.rcParams['figure.figsize'] = [13, 5]"
   ]
  },
  {
   "cell_type": "code",
   "execution_count": 4,
   "id": "df9d5752",
   "metadata": {},
   "outputs": [],
   "source": [
    "# Set seaborn plot theme:\n",
    "sns.set_theme()"
   ]
  },
  {
   "attachments": {},
   "cell_type": "markdown",
   "id": "59394ce9",
   "metadata": {},
   "source": [
    "# Top Performer Strategy"
   ]
  },
  {
   "attachments": {},
   "cell_type": "markdown",
   "id": "d0d1cc06",
   "metadata": {},
   "source": [
    "* Make sure TSX symbol list are up to date\n",
    "* Download all TSX data\n",
    "* Create DB on TSX\n",
    "* Get close price on all symbols\n",
    "* Remove symbols that don't have valid last date data\n",
    "* Keep symbols with sufficient data\n",
    "* Fill NaN data"
   ]
  },
  {
   "attachments": {},
   "cell_type": "markdown",
   "id": "4d720939",
   "metadata": {},
   "source": [
    "## DB creation"
   ]
  },
  {
   "cell_type": "code",
   "execution_count": 5,
   "id": "23d47bf4",
   "metadata": {},
   "outputs": [],
   "source": [
    "db = sdm.StockDBMgr('stock_db/tsx')"
   ]
  },
  {
   "attachments": {},
   "cell_type": "markdown",
   "id": "1aa74639",
   "metadata": {},
   "source": [
    "## Get close price"
   ]
  },
  {
   "cell_type": "code",
   "execution_count": 6,
   "id": "38d38065",
   "metadata": {},
   "outputs": [],
   "source": [
    "dfa = db.get_all_symbol_single_data_item('Close')"
   ]
  },
  {
   "cell_type": "code",
   "execution_count": 7,
   "id": "6a745650",
   "metadata": {},
   "outputs": [
    {
     "data": {
      "text/html": [
       "<div>\n",
       "<style scoped>\n",
       "    .dataframe tbody tr th:only-of-type {\n",
       "        vertical-align: middle;\n",
       "    }\n",
       "\n",
       "    .dataframe tbody tr th {\n",
       "        vertical-align: top;\n",
       "    }\n",
       "\n",
       "    .dataframe thead th {\n",
       "        text-align: right;\n",
       "    }\n",
       "</style>\n",
       "<table border=\"1\" class=\"dataframe\">\n",
       "  <thead>\n",
       "    <tr style=\"text-align: right;\">\n",
       "      <th></th>\n",
       "      <th>count</th>\n",
       "      <th>mean</th>\n",
       "      <th>std</th>\n",
       "      <th>min</th>\n",
       "      <th>25%</th>\n",
       "      <th>50%</th>\n",
       "      <th>75%</th>\n",
       "      <th>max</th>\n",
       "    </tr>\n",
       "    <tr>\n",
       "      <th>Close</th>\n",
       "      <th></th>\n",
       "      <th></th>\n",
       "      <th></th>\n",
       "      <th></th>\n",
       "      <th></th>\n",
       "      <th></th>\n",
       "      <th></th>\n",
       "      <th></th>\n",
       "    </tr>\n",
       "  </thead>\n",
       "  <tbody>\n",
       "    <tr>\n",
       "      <th>ABX.TO</th>\n",
       "      <td>7145.0</td>\n",
       "      <td>24.029201</td>\n",
       "      <td>7.248308</td>\n",
       "      <td>7.048789</td>\n",
       "      <td>19.030626</td>\n",
       "      <td>22.904671</td>\n",
       "      <td>28.014879</td>\n",
       "      <td>45.278164</td>\n",
       "    </tr>\n",
       "    <tr>\n",
       "      <th>AC.TO</th>\n",
       "      <td>3315.0</td>\n",
       "      <td>15.162522</td>\n",
       "      <td>11.748727</td>\n",
       "      <td>0.820000</td>\n",
       "      <td>3.515000</td>\n",
       "      <td>13.240000</td>\n",
       "      <td>23.165000</td>\n",
       "      <td>52.090000</td>\n",
       "    </tr>\n",
       "    <tr>\n",
       "      <th>ACB.TO</th>\n",
       "      <td>1681.0</td>\n",
       "      <td>42.814694</td>\n",
       "      <td>46.807897</td>\n",
       "      <td>0.670000</td>\n",
       "      <td>8.080000</td>\n",
       "      <td>24.240000</td>\n",
       "      <td>84.239998</td>\n",
       "      <td>180.839996</td>\n",
       "    </tr>\n",
       "    <tr>\n",
       "      <th>ACO-X.TO</th>\n",
       "      <td>7147.0</td>\n",
       "      <td>19.683165</td>\n",
       "      <td>13.839052</td>\n",
       "      <td>1.694719</td>\n",
       "      <td>6.533317</td>\n",
       "      <td>16.285465</td>\n",
       "      <td>33.807743</td>\n",
       "      <td>47.128162</td>\n",
       "    </tr>\n",
       "    <tr>\n",
       "      <th>AEM.TO</th>\n",
       "      <td>7145.0</td>\n",
       "      <td>34.724360</td>\n",
       "      <td>22.370956</td>\n",
       "      <td>3.492448</td>\n",
       "      <td>13.955750</td>\n",
       "      <td>31.953285</td>\n",
       "      <td>51.909447</td>\n",
       "      <td>105.389000</td>\n",
       "    </tr>\n",
       "    <tr>\n",
       "      <th>...</th>\n",
       "      <td>...</td>\n",
       "      <td>...</td>\n",
       "      <td>...</td>\n",
       "      <td>...</td>\n",
       "      <td>...</td>\n",
       "      <td>...</td>\n",
       "      <td>...</td>\n",
       "      <td>...</td>\n",
       "    </tr>\n",
       "    <tr>\n",
       "      <th>WPRT.TO</th>\n",
       "      <td>5947.0</td>\n",
       "      <td>124.575129</td>\n",
       "      <td>131.033752</td>\n",
       "      <td>9.100000</td>\n",
       "      <td>35.000000</td>\n",
       "      <td>63.599998</td>\n",
       "      <td>180.300003</td>\n",
       "      <td>805.000000</td>\n",
       "    </tr>\n",
       "    <tr>\n",
       "      <th>WSP.TO</th>\n",
       "      <td>2371.0</td>\n",
       "      <td>78.538646</td>\n",
       "      <td>48.741370</td>\n",
       "      <td>24.834866</td>\n",
       "      <td>37.286982</td>\n",
       "      <td>62.936764</td>\n",
       "      <td>117.156445</td>\n",
       "      <td>184.970398</td>\n",
       "    </tr>\n",
       "    <tr>\n",
       "      <th>WTE.TO</th>\n",
       "      <td>4943.0</td>\n",
       "      <td>13.742975</td>\n",
       "      <td>7.582129</td>\n",
       "      <td>1.949557</td>\n",
       "      <td>6.001154</td>\n",
       "      <td>14.337665</td>\n",
       "      <td>18.982525</td>\n",
       "      <td>35.544537</td>\n",
       "    </tr>\n",
       "    <tr>\n",
       "      <th>X.TO</th>\n",
       "      <td>4950.0</td>\n",
       "      <td>6.332849</td>\n",
       "      <td>7.912510</td>\n",
       "      <td>0.064084</td>\n",
       "      <td>0.711756</td>\n",
       "      <td>2.584540</td>\n",
       "      <td>8.998224</td>\n",
       "      <td>29.950001</td>\n",
       "    </tr>\n",
       "    <tr>\n",
       "      <th>ZZZ.TO</th>\n",
       "      <td>1988.0</td>\n",
       "      <td>23.351836</td>\n",
       "      <td>6.379627</td>\n",
       "      <td>7.746731</td>\n",
       "      <td>18.079783</td>\n",
       "      <td>24.144982</td>\n",
       "      <td>28.015387</td>\n",
       "      <td>38.630478</td>\n",
       "    </tr>\n",
       "  </tbody>\n",
       "</table>\n",
       "<p>223 rows × 8 columns</p>\n",
       "</div>"
      ],
      "text/plain": [
       "           count        mean         std        min        25%        50%  \\\n",
       "Close                                                                       \n",
       "ABX.TO    7145.0   24.029201    7.248308   7.048789  19.030626  22.904671   \n",
       "AC.TO     3315.0   15.162522   11.748727   0.820000   3.515000  13.240000   \n",
       "ACB.TO    1681.0   42.814694   46.807897   0.670000   8.080000  24.240000   \n",
       "ACO-X.TO  7147.0   19.683165   13.839052   1.694719   6.533317  16.285465   \n",
       "AEM.TO    7145.0   34.724360   22.370956   3.492448  13.955750  31.953285   \n",
       "...          ...         ...         ...        ...        ...        ...   \n",
       "WPRT.TO   5947.0  124.575129  131.033752   9.100000  35.000000  63.599998   \n",
       "WSP.TO    2371.0   78.538646   48.741370  24.834866  37.286982  62.936764   \n",
       "WTE.TO    4943.0   13.742975    7.582129   1.949557   6.001154  14.337665   \n",
       "X.TO      4950.0    6.332849    7.912510   0.064084   0.711756   2.584540   \n",
       "ZZZ.TO    1988.0   23.351836    6.379627   7.746731  18.079783  24.144982   \n",
       "\n",
       "                 75%         max  \n",
       "Close                             \n",
       "ABX.TO     28.014879   45.278164  \n",
       "AC.TO      23.165000   52.090000  \n",
       "ACB.TO     84.239998  180.839996  \n",
       "ACO-X.TO   33.807743   47.128162  \n",
       "AEM.TO     51.909447  105.389000  \n",
       "...              ...         ...  \n",
       "WPRT.TO   180.300003  805.000000  \n",
       "WSP.TO    117.156445  184.970398  \n",
       "WTE.TO     18.982525   35.544537  \n",
       "X.TO        8.998224   29.950001  \n",
       "ZZZ.TO     28.015387   38.630478  \n",
       "\n",
       "[223 rows x 8 columns]"
      ]
     },
     "execution_count": 7,
     "metadata": {},
     "output_type": "execute_result"
    }
   ],
   "source": [
    "dfa.describe().transpose()"
   ]
  },
  {
   "attachments": {},
   "cell_type": "markdown",
   "id": "8075843d",
   "metadata": {},
   "source": [
    "## Keep symbols with sufficient data"
   ]
  },
  {
   "cell_type": "code",
   "execution_count": 8,
   "id": "45b5929a",
   "metadata": {},
   "outputs": [
    {
     "data": {
      "text/plain": [
       "30"
      ]
     },
     "execution_count": 8,
     "metadata": {},
     "output_type": "execute_result"
    }
   ],
   "source": [
    "# how many NAN remains when keeping only stocks 10 years old and older\n",
    "fu.clean_dataframe(dfa, '2013-01-01').isna().mul(1).sum().sum()"
   ]
  },
  {
   "cell_type": "code",
   "execution_count": 9,
   "id": "94b2db15",
   "metadata": {},
   "outputs": [
    {
     "data": {
      "text/plain": [
       "<Axes: xlabel='Date'>"
      ]
     },
     "execution_count": 9,
     "metadata": {},
     "output_type": "execute_result"
    },
    {
     "data": {
      "image/png": "[encoded data removed]",
      "text/plain": [
       "<Figure size 1300x500 with 1 Axes>"
      ]
     },
     "metadata": {},
     "output_type": "display_data"
    }
   ],
   "source": [
    "# nb of nan symbols at each dates\n",
    "fu.clean_dataframe(dfa, '2013-01-01').isna().mul(1).sum(1).plot()"
   ]
  },
  {
   "cell_type": "code",
   "execution_count": 10,
   "id": "1fbb5601",
   "metadata": {},
   "outputs": [],
   "source": [
    "# clean & fill nan\n",
    "dfv = fu.fill_nan_data(fu.clean_dataframe(dfa, '2013-01-01'))"
   ]
  },
  {
   "cell_type": "code",
   "execution_count": 11,
   "id": "94d44254",
   "metadata": {},
   "outputs": [
    {
     "data": {
      "text/plain": [
       "True"
      ]
     },
     "execution_count": 11,
     "metadata": {},
     "output_type": "execute_result"
    }
   ],
   "source": [
    "dfv.notna().all().all()"
   ]
  },
  {
   "attachments": {},
   "cell_type": "markdown",
   "id": "f0f93587",
   "metadata": {},
   "source": [
    "## Analysis parameters"
   ]
  },
  {
   "cell_type": "code",
   "execution_count": 12,
   "id": "e89c74ad",
   "metadata": {},
   "outputs": [],
   "source": [
    "# parameters\n",
    "# i: start day\n",
    "# d: duration increment\n",
    "i = 0\n",
    "d = 253 # About 253 trading days per year"
   ]
  },
  {
   "cell_type": "code",
   "execution_count": 13,
   "id": "e90ca144",
   "metadata": {},
   "outputs": [],
   "source": [
    "# Nb of symbols\n",
    "n = len(dfv.columns)"
   ]
  },
  {
   "cell_type": "code",
   "execution_count": 14,
   "id": "59e27962",
   "metadata": {},
   "outputs": [],
   "source": [
    "# Nb of best symbols to keep\n",
    "k = 5"
   ]
  },
  {
   "cell_type": "code",
   "execution_count": 15,
   "id": "f773584e",
   "metadata": {},
   "outputs": [
    {
     "data": {
      "text/html": [
       "<div>\n",
       "<style scoped>\n",
       "    .dataframe tbody tr th:only-of-type {\n",
       "        vertical-align: middle;\n",
       "    }\n",
       "\n",
       "    .dataframe tbody tr th {\n",
       "        vertical-align: top;\n",
       "    }\n",
       "\n",
       "    .dataframe thead th {\n",
       "        text-align: right;\n",
       "    }\n",
       "</style>\n",
       "<table border=\"1\" class=\"dataframe\">\n",
       "  <thead>\n",
       "    <tr style=\"text-align: right;\">\n",
       "      <th>Close</th>\n",
       "      <th>ABX.TO</th>\n",
       "      <th>AC.TO</th>\n",
       "      <th>ACO-X.TO</th>\n",
       "      <th>AEM.TO</th>\n",
       "      <th>AGI.TO</th>\n",
       "      <th>AIF.TO</th>\n",
       "      <th>ALA.TO</th>\n",
       "      <th>AP-UN.TO</th>\n",
       "      <th>AQN.TO</th>\n",
       "      <th>ARE.TO</th>\n",
       "      <th>...</th>\n",
       "      <th>WDO.TO</th>\n",
       "      <th>WEED.TO</th>\n",
       "      <th>WELL.TO</th>\n",
       "      <th>WFG.TO</th>\n",
       "      <th>WN.TO</th>\n",
       "      <th>WPK.TO</th>\n",
       "      <th>WPM.TO</th>\n",
       "      <th>WPRT.TO</th>\n",
       "      <th>WTE.TO</th>\n",
       "      <th>X.TO</th>\n",
       "    </tr>\n",
       "    <tr>\n",
       "      <th>Date</th>\n",
       "      <th></th>\n",
       "      <th></th>\n",
       "      <th></th>\n",
       "      <th></th>\n",
       "      <th></th>\n",
       "      <th></th>\n",
       "      <th></th>\n",
       "      <th></th>\n",
       "      <th></th>\n",
       "      <th></th>\n",
       "      <th></th>\n",
       "      <th></th>\n",
       "      <th></th>\n",
       "      <th></th>\n",
       "      <th></th>\n",
       "      <th></th>\n",
       "      <th></th>\n",
       "      <th></th>\n",
       "      <th></th>\n",
       "      <th></th>\n",
       "      <th></th>\n",
       "    </tr>\n",
       "  </thead>\n",
       "  <tbody>\n",
       "    <tr>\n",
       "      <th>2013-01-02</th>\n",
       "      <td>29.601265</td>\n",
       "      <td>1.78</td>\n",
       "      <td>28.754429</td>\n",
       "      <td>44.320339</td>\n",
       "      <td>16.194073</td>\n",
       "      <td>6.490455</td>\n",
       "      <td>19.120020</td>\n",
       "      <td>21.595827</td>\n",
       "      <td>4.326761</td>\n",
       "      <td>7.612666</td>\n",
       "      <td>...</td>\n",
       "      <td>0.87</td>\n",
       "      <td>0.25</td>\n",
       "      <td>0.14</td>\n",
       "      <td>33.832371</td>\n",
       "      <td>57.783161</td>\n",
       "      <td>12.271808</td>\n",
       "      <td>31.492928</td>\n",
       "      <td>280.000000</td>\n",
       "      <td>17.480108</td>\n",
       "      <td>2.416806</td>\n",
       "    </tr>\n",
       "    <tr>\n",
       "      <th>2013-01-03</th>\n",
       "      <td>28.757439</td>\n",
       "      <td>1.78</td>\n",
       "      <td>28.736544</td>\n",
       "      <td>42.799297</td>\n",
       "      <td>15.622196</td>\n",
       "      <td>6.490455</td>\n",
       "      <td>19.023767</td>\n",
       "      <td>21.245106</td>\n",
       "      <td>4.363376</td>\n",
       "      <td>7.584449</td>\n",
       "      <td>...</td>\n",
       "      <td>0.85</td>\n",
       "      <td>0.25</td>\n",
       "      <td>0.14</td>\n",
       "      <td>33.359703</td>\n",
       "      <td>57.455288</td>\n",
       "      <td>12.271808</td>\n",
       "      <td>30.364183</td>\n",
       "      <td>290.799988</td>\n",
       "      <td>18.066563</td>\n",
       "      <td>2.416806</td>\n",
       "    </tr>\n",
       "    <tr>\n",
       "      <th>2013-01-04</th>\n",
       "      <td>28.808064</td>\n",
       "      <td>1.77</td>\n",
       "      <td>28.614950</td>\n",
       "      <td>42.345505</td>\n",
       "      <td>15.186481</td>\n",
       "      <td>6.616486</td>\n",
       "      <td>19.040751</td>\n",
       "      <td>21.550358</td>\n",
       "      <td>4.357274</td>\n",
       "      <td>7.669111</td>\n",
       "      <td>...</td>\n",
       "      <td>0.86</td>\n",
       "      <td>0.25</td>\n",
       "      <td>0.14</td>\n",
       "      <td>33.764198</td>\n",
       "      <td>57.774982</td>\n",
       "      <td>12.271808</td>\n",
       "      <td>30.390024</td>\n",
       "      <td>285.200012</td>\n",
       "      <td>18.211594</td>\n",
       "      <td>2.416806</td>\n",
       "    </tr>\n",
       "    <tr>\n",
       "      <th>2013-01-07</th>\n",
       "      <td>28.327093</td>\n",
       "      <td>1.86</td>\n",
       "      <td>28.611370</td>\n",
       "      <td>41.034550</td>\n",
       "      <td>15.604043</td>\n",
       "      <td>6.663745</td>\n",
       "      <td>18.916176</td>\n",
       "      <td>21.219114</td>\n",
       "      <td>4.393891</td>\n",
       "      <td>7.923100</td>\n",
       "      <td>...</td>\n",
       "      <td>0.85</td>\n",
       "      <td>0.25</td>\n",
       "      <td>0.14</td>\n",
       "      <td>34.086887</td>\n",
       "      <td>56.783092</td>\n",
       "      <td>12.263484</td>\n",
       "      <td>29.433603</td>\n",
       "      <td>279.500000</td>\n",
       "      <td>17.776484</td>\n",
       "      <td>2.404011</td>\n",
       "    </tr>\n",
       "    <tr>\n",
       "      <th>2013-01-08</th>\n",
       "      <td>27.964245</td>\n",
       "      <td>1.99</td>\n",
       "      <td>28.876030</td>\n",
       "      <td>41.463135</td>\n",
       "      <td>14.959547</td>\n",
       "      <td>6.616486</td>\n",
       "      <td>18.904861</td>\n",
       "      <td>21.206127</td>\n",
       "      <td>4.369479</td>\n",
       "      <td>8.000710</td>\n",
       "      <td>...</td>\n",
       "      <td>0.85</td>\n",
       "      <td>0.25</td>\n",
       "      <td>0.14</td>\n",
       "      <td>34.841335</td>\n",
       "      <td>56.250275</td>\n",
       "      <td>12.338364</td>\n",
       "      <td>30.036747</td>\n",
       "      <td>270.600006</td>\n",
       "      <td>17.871075</td>\n",
       "      <td>2.404959</td>\n",
       "    </tr>\n",
       "    <tr>\n",
       "      <th>...</th>\n",
       "      <td>...</td>\n",
       "      <td>...</td>\n",
       "      <td>...</td>\n",
       "      <td>...</td>\n",
       "      <td>...</td>\n",
       "      <td>...</td>\n",
       "      <td>...</td>\n",
       "      <td>...</td>\n",
       "      <td>...</td>\n",
       "      <td>...</td>\n",
       "      <td>...</td>\n",
       "      <td>...</td>\n",
       "      <td>...</td>\n",
       "      <td>...</td>\n",
       "      <td>...</td>\n",
       "      <td>...</td>\n",
       "      <td>...</td>\n",
       "      <td>...</td>\n",
       "      <td>...</td>\n",
       "      <td>...</td>\n",
       "      <td>...</td>\n",
       "    </tr>\n",
       "    <tr>\n",
       "      <th>2013-12-27</th>\n",
       "      <td>16.282526</td>\n",
       "      <td>7.49</td>\n",
       "      <td>33.847160</td>\n",
       "      <td>24.654217</td>\n",
       "      <td>11.819326</td>\n",
       "      <td>14.010579</td>\n",
       "      <td>23.931469</td>\n",
       "      <td>21.747850</td>\n",
       "      <td>4.686949</td>\n",
       "      <td>11.484457</td>\n",
       "      <td>...</td>\n",
       "      <td>0.63</td>\n",
       "      <td>0.05</td>\n",
       "      <td>0.22</td>\n",
       "      <td>47.023647</td>\n",
       "      <td>64.875412</td>\n",
       "      <td>19.139311</td>\n",
       "      <td>19.248640</td>\n",
       "      <td>208.600006</td>\n",
       "      <td>22.690550</td>\n",
       "      <td>2.792234</td>\n",
       "    </tr>\n",
       "    <tr>\n",
       "      <th>2013-12-30</th>\n",
       "      <td>15.864132</td>\n",
       "      <td>7.47</td>\n",
       "      <td>33.868980</td>\n",
       "      <td>23.824930</td>\n",
       "      <td>11.533749</td>\n",
       "      <td>14.052255</td>\n",
       "      <td>23.943260</td>\n",
       "      <td>21.883268</td>\n",
       "      <td>4.680553</td>\n",
       "      <td>11.643562</td>\n",
       "      <td>...</td>\n",
       "      <td>0.60</td>\n",
       "      <td>0.05</td>\n",
       "      <td>0.22</td>\n",
       "      <td>47.224865</td>\n",
       "      <td>65.186539</td>\n",
       "      <td>19.038889</td>\n",
       "      <td>18.634508</td>\n",
       "      <td>208.600006</td>\n",
       "      <td>22.875027</td>\n",
       "      <td>2.819494</td>\n",
       "    </tr>\n",
       "    <tr>\n",
       "      <th>2013-12-31</th>\n",
       "      <td>16.308674</td>\n",
       "      <td>7.41</td>\n",
       "      <td>33.927166</td>\n",
       "      <td>24.213657</td>\n",
       "      <td>11.856180</td>\n",
       "      <td>14.002245</td>\n",
       "      <td>24.037582</td>\n",
       "      <td>22.181177</td>\n",
       "      <td>4.693345</td>\n",
       "      <td>11.636331</td>\n",
       "      <td>...</td>\n",
       "      <td>0.58</td>\n",
       "      <td>0.05</td>\n",
       "      <td>0.22</td>\n",
       "      <td>47.375782</td>\n",
       "      <td>65.169731</td>\n",
       "      <td>18.796192</td>\n",
       "      <td>18.818747</td>\n",
       "      <td>207.899994</td>\n",
       "      <td>22.802553</td>\n",
       "      <td>2.838965</td>\n",
       "    </tr>\n",
       "    <tr>\n",
       "      <th>2014-01-02</th>\n",
       "      <td>17.032146</td>\n",
       "      <td>7.26</td>\n",
       "      <td>34.050758</td>\n",
       "      <td>25.414406</td>\n",
       "      <td>12.169395</td>\n",
       "      <td>14.002245</td>\n",
       "      <td>24.019890</td>\n",
       "      <td>22.167648</td>\n",
       "      <td>4.654978</td>\n",
       "      <td>11.484457</td>\n",
       "      <td>...</td>\n",
       "      <td>0.63</td>\n",
       "      <td>0.05</td>\n",
       "      <td>0.22</td>\n",
       "      <td>46.127350</td>\n",
       "      <td>64.724037</td>\n",
       "      <td>18.628813</td>\n",
       "      <td>19.924183</td>\n",
       "      <td>209.699997</td>\n",
       "      <td>22.888205</td>\n",
       "      <td>2.834515</td>\n",
       "    </tr>\n",
       "    <tr>\n",
       "      <th>2014-01-03</th>\n",
       "      <td>16.831671</td>\n",
       "      <td>7.50</td>\n",
       "      <td>33.745358</td>\n",
       "      <td>24.887463</td>\n",
       "      <td>12.187819</td>\n",
       "      <td>13.927230</td>\n",
       "      <td>23.984518</td>\n",
       "      <td>22.248890</td>\n",
       "      <td>4.546278</td>\n",
       "      <td>11.542315</td>\n",
       "      <td>...</td>\n",
       "      <td>0.63</td>\n",
       "      <td>0.05</td>\n",
       "      <td>0.22</td>\n",
       "      <td>47.179131</td>\n",
       "      <td>64.438148</td>\n",
       "      <td>18.687393</td>\n",
       "      <td>19.713625</td>\n",
       "      <td>208.600006</td>\n",
       "      <td>23.112202</td>\n",
       "      <td>2.856770</td>\n",
       "    </tr>\n",
       "  </tbody>\n",
       "</table>\n",
       "<p>253 rows × 183 columns</p>\n",
       "</div>"
      ],
      "text/plain": [
       "Close          ABX.TO  AC.TO   ACO-X.TO     AEM.TO     AGI.TO     AIF.TO  \\\n",
       "Date                                                                       \n",
       "2013-01-02  29.601265   1.78  28.754429  44.320339  16.194073   6.490455   \n",
       "2013-01-03  28.757439   1.78  28.736544  42.799297  15.622196   6.490455   \n",
       "2013-01-04  28.808064   1.77  28.614950  42.345505  15.186481   6.616486   \n",
       "2013-01-07  28.327093   1.86  28.611370  41.034550  15.604043   6.663745   \n",
       "2013-01-08  27.964245   1.99  28.876030  41.463135  14.959547   6.616486   \n",
       "...               ...    ...        ...        ...        ...        ...   \n",
       "2013-12-27  16.282526   7.49  33.847160  24.654217  11.819326  14.010579   \n",
       "2013-12-30  15.864132   7.47  33.868980  23.824930  11.533749  14.052255   \n",
       "2013-12-31  16.308674   7.41  33.927166  24.213657  11.856180  14.002245   \n",
       "2014-01-02  17.032146   7.26  34.050758  25.414406  12.169395  14.002245   \n",
       "2014-01-03  16.831671   7.50  33.745358  24.887463  12.187819  13.927230   \n",
       "\n",
       "Close          ALA.TO   AP-UN.TO    AQN.TO     ARE.TO  ...  WDO.TO  WEED.TO  \\\n",
       "Date                                                   ...                    \n",
       "2013-01-02  19.120020  21.595827  4.326761   7.612666  ...    0.87     0.25   \n",
       "2013-01-03  19.023767  21.245106  4.363376   7.584449  ...    0.85     0.25   \n",
       "2013-01-04  19.040751  21.550358  4.357274   7.669111  ...    0.86     0.25   \n",
       "2013-01-07  18.916176  21.219114  4.393891   7.923100  ...    0.85     0.25   \n",
       "2013-01-08  18.904861  21.206127  4.369479   8.000710  ...    0.85     0.25   \n",
       "...               ...        ...       ...        ...  ...     ...      ...   \n",
       "2013-12-27  23.931469  21.747850  4.686949  11.484457  ...    0.63     0.05   \n",
       "2013-12-30  23.943260  21.883268  4.680553  11.643562  ...    0.60     0.05   \n",
       "2013-12-31  24.037582  22.181177  4.693345  11.636331  ...    0.58     0.05   \n",
       "2014-01-02  24.019890  22.167648  4.654978  11.484457  ...    0.63     0.05   \n",
       "2014-01-03  23.984518  22.248890  4.546278  11.542315  ...    0.63     0.05   \n",
       "\n",
       "Close       WELL.TO     WFG.TO      WN.TO     WPK.TO     WPM.TO     WPRT.TO  \\\n",
       "Date                                                                          \n",
       "2013-01-02     0.14  33.832371  57.783161  12.271808  31.492928  280.000000   \n",
       "2013-01-03     0.14  33.359703  57.455288  12.271808  30.364183  290.799988   \n",
       "2013-01-04     0.14  33.764198  57.774982  12.271808  30.390024  285.200012   \n",
       "2013-01-07     0.14  34.086887  56.783092  12.263484  29.433603  279.500000   \n",
       "2013-01-08     0.14  34.841335  56.250275  12.338364  30.036747  270.600006   \n",
       "...             ...        ...        ...        ...        ...         ...   \n",
       "2013-12-27     0.22  47.023647  64.875412  19.139311  19.248640  208.600006   \n",
       "2013-12-30     0.22  47.224865  65.186539  19.038889  18.634508  208.600006   \n",
       "2013-12-31     0.22  47.375782  65.169731  18.796192  18.818747  207.899994   \n",
       "2014-01-02     0.22  46.127350  64.724037  18.628813  19.924183  209.699997   \n",
       "2014-01-03     0.22  47.179131  64.438148  18.687393  19.713625  208.600006   \n",
       "\n",
       "Close          WTE.TO      X.TO  \n",
       "Date                             \n",
       "2013-01-02  17.480108  2.416806  \n",
       "2013-01-03  18.066563  2.416806  \n",
       "2013-01-04  18.211594  2.416806  \n",
       "2013-01-07  17.776484  2.404011  \n",
       "2013-01-08  17.871075  2.404959  \n",
       "...               ...       ...  \n",
       "2013-12-27  22.690550  2.792234  \n",
       "2013-12-30  22.875027  2.819494  \n",
       "2013-12-31  22.802553  2.838965  \n",
       "2014-01-02  22.888205  2.834515  \n",
       "2014-01-03  23.112202  2.856770  \n",
       "\n",
       "[253 rows x 183 columns]"
      ]
     },
     "execution_count": 15,
     "metadata": {},
     "output_type": "execute_result"
    }
   ],
   "source": [
    "dfv.iloc[i : i + d]"
   ]
  },
  {
   "attachments": {},
   "cell_type": "markdown",
   "id": "d135ccf2",
   "metadata": {},
   "source": [
    "## Test run"
   ]
  },
  {
   "attachments": {},
   "cell_type": "markdown",
   "id": "278a8d09",
   "metadata": {},
   "source": [
    "### Return for all - current period"
   ]
  },
  {
   "cell_type": "code",
   "execution_count": 16,
   "id": "1dd87c89",
   "metadata": {},
   "outputs": [
    {
     "data": {
      "text/plain": [
       "0.17443648345715435"
      ]
     },
     "execution_count": 16,
     "metadata": {},
     "output_type": "execute_result"
    }
   ],
   "source": [
    "fu.normalize_dataframe(dfv.iloc[i : i + d]).iloc[-1].div(n).sum() - 1"
   ]
  },
  {
   "attachments": {},
   "cell_type": "markdown",
   "id": "8c433fcb",
   "metadata": {},
   "source": [
    "### Find best performing stocks"
   ]
  },
  {
   "cell_type": "code",
   "execution_count": 17,
   "id": "a7fcdadf",
   "metadata": {},
   "outputs": [
    {
     "data": {
      "text/plain": [
       "Close\n",
       "AC.TO      3.213483\n",
       "BLDP.TO    2.177419\n",
       "BDGI.TO    1.839357\n",
       "AIF.TO     1.145802\n",
       "BHC.TO     1.078386\n",
       "Name: 2014-01-03 00:00:00, dtype: float64"
      ]
     },
     "execution_count": 17,
     "metadata": {},
     "output_type": "execute_result"
    }
   ],
   "source": [
    "b = fu.normalize_dataframe(dfv.iloc[i : i + d]).iloc[-1].sub(1).sort_values(ascending=False).iloc[:k]\n",
    "b"
   ]
  },
  {
   "attachments": {},
   "cell_type": "markdown",
   "id": "40eff383",
   "metadata": {},
   "source": [
    "### Return for best - current period"
   ]
  },
  {
   "cell_type": "code",
   "execution_count": 18,
   "id": "e1a506b1",
   "metadata": {},
   "outputs": [
    {
     "data": {
      "text/plain": [
       "1.8908893540967546"
      ]
     },
     "execution_count": 18,
     "metadata": {},
     "output_type": "execute_result"
    }
   ],
   "source": [
    "fu.normalize_dataframe(dfv[b.index].iloc[i : i + d]).iloc[-1].div(k).sum() - 1"
   ]
  },
  {
   "attachments": {},
   "cell_type": "markdown",
   "id": "26450810",
   "metadata": {},
   "source": [
    "### Return for all - next period"
   ]
  },
  {
   "cell_type": "code",
   "execution_count": 19,
   "id": "0368887c",
   "metadata": {},
   "outputs": [
    {
     "data": {
      "text/plain": [
       "0.3872424168927864"
      ]
     },
     "execution_count": 19,
     "metadata": {},
     "output_type": "execute_result"
    }
   ],
   "source": [
    "fu.normalize_dataframe(dfv.iloc[i + d : i + 2 * d]).iloc[-1].div(n).sum() - 1"
   ]
  },
  {
   "attachments": {},
   "cell_type": "markdown",
   "id": "f8958176",
   "metadata": {},
   "source": [
    "### Return for best - next period"
   ]
  },
  {
   "cell_type": "code",
   "execution_count": 20,
   "id": "81c50573",
   "metadata": {},
   "outputs": [
    {
     "data": {
      "text/plain": [
       "0.21771837907228786"
      ]
     },
     "execution_count": 20,
     "metadata": {},
     "output_type": "execute_result"
    }
   ],
   "source": [
    "fu.normalize_dataframe(dfv[b.index].iloc[i + d : i + 2 * d]).iloc[-1].div(k).sum() - 1"
   ]
  },
  {
   "cell_type": "code",
   "execution_count": 21,
   "id": "6e6ba492",
   "metadata": {},
   "outputs": [],
   "source": [
    "# ... oops...\n",
    "\n",
    "# need to try other time period, other duration..."
   ]
  },
  {
   "attachments": {},
   "cell_type": "markdown",
   "id": "f3397fa2",
   "metadata": {},
   "source": [
    "## Function to automate"
   ]
  },
  {
   "cell_type": "code",
   "execution_count": 22,
   "id": "3c631dd8",
   "metadata": {},
   "outputs": [
    {
     "data": {
      "text/plain": [
       "2625"
      ]
     },
     "execution_count": 22,
     "metadata": {},
     "output_type": "execute_result"
    }
   ],
   "source": [
    "len(dfv)"
   ]
  },
  {
   "cell_type": "code",
   "execution_count": 50,
   "id": "2e129ad4",
   "metadata": {},
   "outputs": [],
   "source": [
    "d = 100\n",
    "i = 3 * d"
   ]
  },
  {
   "cell_type": "code",
   "execution_count": 51,
   "id": "fbfb73c1",
   "metadata": {},
   "outputs": [
    {
     "data": {
      "text/plain": [
       "count    183.000000\n",
       "mean       0.361265\n",
       "std        3.872412\n",
       "min       -0.344125\n",
       "25%       -0.003207\n",
       "50%        0.067874\n",
       "75%        0.141777\n",
       "max       52.400000\n",
       "Name: 2014-08-05 00:00:00, dtype: float64"
      ]
     },
     "execution_count": 51,
     "metadata": {},
     "output_type": "execute_result"
    }
   ],
   "source": [
    "fu.normalize_dataframe(dfv.iloc[i : i + d]).iloc[-1].sub(1).describe()"
   ]
  },
  {
   "cell_type": "code",
   "execution_count": 52,
   "id": "366d7191",
   "metadata": {},
   "outputs": [
    {
     "data": {
      "text/plain": [
       "8"
      ]
     },
     "execution_count": 52,
     "metadata": {},
     "output_type": "execute_result"
    }
   ],
   "source": [
    "fu.normalize_dataframe(dfv.iloc[i : i + d]).iloc[-1].sub(1).pipe(lambda x: x[x > x.mean()]).count()"
   ]
  },
  {
   "cell_type": "code",
   "execution_count": 55,
   "id": "632d4299",
   "metadata": {},
   "outputs": [
    {
     "data": {
      "text/plain": [
       "<Axes: ylabel='Frequency'>"
      ]
     },
     "execution_count": 55,
     "metadata": {},
     "output_type": "execute_result"
    },
    {
     "data": {
      "image/png": "[encoded data removed]",
      "text/plain": [
       "<Figure size 1300x500 with 1 Axes>"
      ]
     },
     "metadata": {},
     "output_type": "display_data"
    }
   ],
   "source": [
    "fu.normalize_dataframe(dfv.iloc[i : i + d]).iloc[-1].sub(1) \\\n",
    ".plot.hist(bins=100)\n",
    "#.pipe(lambda x: x[x > x.mean()]).count()\n",
    "#.skew()\n"
   ]
  },
  {
   "cell_type": "code",
   "execution_count": 56,
   "id": "32d580db",
   "metadata": {},
   "outputs": [],
   "source": [
    "def top_performer(df, k, d):\n",
    "    n = len(df.columns)\n",
    "\n",
    "    # output df\n",
    "    dfo = pd.DataFrame(columns=[\"GAC\", \"GBC\", \"GAN\", \"GBN\", \"NAM\", \"ACstd\", \"ACskew\", \"ACkurt\"])\n",
    "    dfo.rename_axis('Parameters', axis='columns')\n",
    "    dfo.rename_axis('Dates', axis='index')\n",
    "\n",
    "    for i in range(0, len(df) - 2 * d, d):\n",
    "        # df normalized, current period\n",
    "        dfnc = fu.normalize_dataframe(df.iloc[i : i + d])\n",
    "\n",
    "        # gain for all symbols, current period\n",
    "        gac = dfnc.iloc[-1].sub(1).mean()\n",
    "\n",
    "        nb_above_mean = fu.normalize_dataframe(df.iloc[i : i + d]).iloc[-1].sub(1).pipe(lambda x: x[x > x.mean()]).count()\n",
    "\n",
    "        # best symbols\n",
    "        b = dfnc.iloc[-1].sub(1).sort_values().iloc[-k:].index\n",
    "\n",
    "        # gain of k best symbols, current period\n",
    "        gbc = dfnc[b].iloc[-1].mean()\n",
    "\n",
    "        # gain for all symbols, next period\n",
    "        gan = fu.normalize_dataframe(df.iloc[i + d : i + 2 * d]) \\\n",
    "            .iloc[-1].sub(1).mean()\n",
    "\n",
    "        # gain of k best symbols, next period\n",
    "        gbn = fu.normalize_dataframe(df[b].iloc[i + d : i + 2 * d]) \\\n",
    "            .iloc[-1].sub(1).mean()\n",
    "\n",
    "        dfo.loc[df.iloc[i].name] = [gac, gbc, gan, gbn, nb_above_mean, dfnc.iloc[-1].sub(1).std(), dfnc.iloc[-1].sub(1).skew(), dfnc.iloc[-1].sub(1).kurt()]\n",
    "        #print(\"{: 9.2f}% {: 9.2f}% {: 9.2f}%  {}\".format(gac * 100, gbc * 100, gbn * 100, nb_above_mean))\n",
    "\n",
    "    return dfo"
   ]
  },
  {
   "cell_type": "code",
   "execution_count": 59,
   "id": "11629778",
   "metadata": {},
   "outputs": [
    {
     "data": {
      "text/html": [
       "<div>\n",
       "<style scoped>\n",
       "    .dataframe tbody tr th:only-of-type {\n",
       "        vertical-align: middle;\n",
       "    }\n",
       "\n",
       "    .dataframe tbody tr th {\n",
       "        vertical-align: top;\n",
       "    }\n",
       "\n",
       "    .dataframe thead th {\n",
       "        text-align: right;\n",
       "    }\n",
       "</style>\n",
       "<table border=\"1\" class=\"dataframe\">\n",
       "  <thead>\n",
       "    <tr style=\"text-align: right;\">\n",
       "      <th></th>\n",
       "      <th>GAC</th>\n",
       "      <th>GBC</th>\n",
       "      <th>GAN</th>\n",
       "      <th>GBN</th>\n",
       "      <th>NAM</th>\n",
       "      <th>ACstd</th>\n",
       "      <th>ACskew</th>\n",
       "      <th>ACkurt</th>\n",
       "    </tr>\n",
       "  </thead>\n",
       "  <tbody>\n",
       "    <tr>\n",
       "      <th>2013-01-02</th>\n",
       "      <td>0.174436</td>\n",
       "      <td>2.890889</td>\n",
       "      <td>0.387242</td>\n",
       "      <td>0.217718</td>\n",
       "      <td>86.0</td>\n",
       "      <td>0.498918</td>\n",
       "      <td>1.644918</td>\n",
       "      <td>8.243980</td>\n",
       "    </tr>\n",
       "    <tr>\n",
       "      <th>2014-01-06</th>\n",
       "      <td>0.387242</td>\n",
       "      <td>11.283839</td>\n",
       "      <td>-0.084781</td>\n",
       "      <td>-0.103592</td>\n",
       "      <td>30.0</td>\n",
       "      <td>3.228558</td>\n",
       "      <td>13.147062</td>\n",
       "      <td>175.865103</td>\n",
       "    </tr>\n",
       "    <tr>\n",
       "      <th>2015-01-08</th>\n",
       "      <td>-0.084781</td>\n",
       "      <td>1.832856</td>\n",
       "      <td>0.617506</td>\n",
       "      <td>0.255143</td>\n",
       "      <td>94.0</td>\n",
       "      <td>0.318035</td>\n",
       "      <td>0.531107</td>\n",
       "      <td>1.164801</td>\n",
       "    </tr>\n",
       "    <tr>\n",
       "      <th>2016-01-12</th>\n",
       "      <td>0.617506</td>\n",
       "      <td>6.191127</td>\n",
       "      <td>0.144565</td>\n",
       "      <td>1.004705</td>\n",
       "      <td>46.0</td>\n",
       "      <td>1.014912</td>\n",
       "      <td>3.592185</td>\n",
       "      <td>16.173581</td>\n",
       "    </tr>\n",
       "    <tr>\n",
       "      <th>2017-01-13</th>\n",
       "      <td>0.144565</td>\n",
       "      <td>2.782173</td>\n",
       "      <td>-0.030674</td>\n",
       "      <td>-0.152241</td>\n",
       "      <td>72.0</td>\n",
       "      <td>0.385853</td>\n",
       "      <td>2.845120</td>\n",
       "      <td>14.913117</td>\n",
       "    </tr>\n",
       "    <tr>\n",
       "      <th>2018-01-17</th>\n",
       "      <td>-0.030674</td>\n",
       "      <td>1.829325</td>\n",
       "      <td>0.270205</td>\n",
       "      <td>0.776928</td>\n",
       "      <td>81.0</td>\n",
       "      <td>0.259766</td>\n",
       "      <td>1.013959</td>\n",
       "      <td>4.142691</td>\n",
       "    </tr>\n",
       "    <tr>\n",
       "      <th>2019-01-21</th>\n",
       "      <td>0.270205</td>\n",
       "      <td>3.111146</td>\n",
       "      <td>0.225204</td>\n",
       "      <td>1.651991</td>\n",
       "      <td>82.0</td>\n",
       "      <td>0.444898</td>\n",
       "      <td>2.356927</td>\n",
       "      <td>10.221593</td>\n",
       "    </tr>\n",
       "    <tr>\n",
       "      <th>2020-01-23</th>\n",
       "      <td>0.225204</td>\n",
       "      <td>4.352178</td>\n",
       "      <td>0.195757</td>\n",
       "      <td>-0.132972</td>\n",
       "      <td>58.0</td>\n",
       "      <td>0.670461</td>\n",
       "      <td>3.462507</td>\n",
       "      <td>15.239886</td>\n",
       "    </tr>\n",
       "    <tr>\n",
       "      <th>2021-01-26</th>\n",
       "      <td>0.195757</td>\n",
       "      <td>3.086496</td>\n",
       "      <td>0.038518</td>\n",
       "      <td>0.413998</td>\n",
       "      <td>84.0</td>\n",
       "      <td>0.492139</td>\n",
       "      <td>1.788407</td>\n",
       "      <td>5.717040</td>\n",
       "    </tr>\n",
       "  </tbody>\n",
       "</table>\n",
       "</div>"
      ],
      "text/plain": [
       "                 GAC        GBC       GAN       GBN   NAM     ACstd  \\\n",
       "2013-01-02  0.174436   2.890889  0.387242  0.217718  86.0  0.498918   \n",
       "2014-01-06  0.387242  11.283839 -0.084781 -0.103592  30.0  3.228558   \n",
       "2015-01-08 -0.084781   1.832856  0.617506  0.255143  94.0  0.318035   \n",
       "2016-01-12  0.617506   6.191127  0.144565  1.004705  46.0  1.014912   \n",
       "2017-01-13  0.144565   2.782173 -0.030674 -0.152241  72.0  0.385853   \n",
       "2018-01-17 -0.030674   1.829325  0.270205  0.776928  81.0  0.259766   \n",
       "2019-01-21  0.270205   3.111146  0.225204  1.651991  82.0  0.444898   \n",
       "2020-01-23  0.225204   4.352178  0.195757 -0.132972  58.0  0.670461   \n",
       "2021-01-26  0.195757   3.086496  0.038518  0.413998  84.0  0.492139   \n",
       "\n",
       "               ACskew      ACkurt  \n",
       "2013-01-02   1.644918    8.243980  \n",
       "2014-01-06  13.147062  175.865103  \n",
       "2015-01-08   0.531107    1.164801  \n",
       "2016-01-12   3.592185   16.173581  \n",
       "2017-01-13   2.845120   14.913117  \n",
       "2018-01-17   1.013959    4.142691  \n",
       "2019-01-21   2.356927   10.221593  \n",
       "2020-01-23   3.462507   15.239886  \n",
       "2021-01-26   1.788407    5.717040  "
      ]
     },
     "execution_count": 59,
     "metadata": {},
     "output_type": "execute_result"
    }
   ],
   "source": [
    "top_performer(dfv, 5, 253)\n",
    "#top_performer(dfv, 10, 100)"
   ]
  },
  {
   "cell_type": "code",
   "execution_count": null,
   "id": "de9bfee1",
   "metadata": {},
   "outputs": [],
   "source": []
  }
 ],
 "metadata": {
  "kernelspec": {
   "display_name": "Python 3",
   "language": "python",
   "name": "python3"
  },
  "language_info": {
   "codemirror_mode": {
    "name": "ipython",
    "version": 3
   },
   "file_extension": ".py",
   "mimetype": "text/x-python",
   "name": "python",
   "nbconvert_exporter": "python",
   "pygments_lexer": "ipython3",
   "version": "3.10.4"
  }
 },
 "nbformat": 4,
 "nbformat_minor": 5
}
